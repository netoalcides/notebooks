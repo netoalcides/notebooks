{
 "cells": [
  {
   "cell_type": "markdown",
   "metadata": {},
   "source": [
    "# Distribuições de probabilidade"
   ]
  },
  {
   "cell_type": "code",
   "execution_count": 6,
   "metadata": {},
   "outputs": [],
   "source": [
    "import matplotlib.pyplot as plt\n",
    "import numpy as np\n",
    "from scipy.special import factorial, gamma, gammaincc"
   ]
  },
  {
   "cell_type": "markdown",
   "metadata": {},
   "source": [
    "## 1. Distribuição Binomial\n",
    "\n",
    "$P(X = k) = \\frac{!n}{k!\\left(n-k\\right)!} p^k \\left(1-p\\right)^{n-k}$, $k = 0, 1, \\ldots, n$"
   ]
  },
  {
   "cell_type": "code",
   "execution_count": 2,
   "metadata": {},
   "outputs": [],
   "source": [
    "def binomial_dist_func(k, n, p):\n",
    "    return (factorial(n) / (factorial(k) * factorial(n-k))) * (p ** k) * ((1-p) ** (n-k))"
   ]
  },
  {
   "cell_type": "code",
   "execution_count": 3,
   "metadata": {},
   "outputs": [
    {
     "data": {
      "text/plain": [
       "0.057395628000000018"
      ]
     },
     "execution_count": 3,
     "metadata": {},
     "output_type": "execute_result"
    }
   ],
   "source": [
    "p = 0.1\n",
    "n = 10\n",
    "k = 3\n",
    "binomial_dist_func(k, n, p)"
   ]
  },
  {
   "cell_type": "code",
   "execution_count": 10,
   "metadata": {},
   "outputs": [
    {
     "name": "stdout",
     "output_type": "stream",
     "text": [
      "[  1.21576655e-01   2.70170344e-01   2.85179807e-01   1.90119871e-01\n",
      "   8.97788281e-02   3.19213611e-02   8.86704476e-03   1.97045439e-03\n",
      "   3.55776487e-04   5.27076277e-05   6.44204339e-06   6.50711453e-07\n",
      "   5.42259544e-08   3.70775757e-09   2.05986532e-10   9.15495696e-12\n",
      "   3.17880450e-13   8.31060000e-15   1.53900000e-16   1.80000000e-18]\n"
     ]
    },
    {
     "data": {
      "image/png": "[encoded data removed]",
      "text/plain": [
       "<matplotlib.figure.Figure at 0x7f6ba4c0e4a8>"
      ]
     },
     "metadata": {},
     "output_type": "display_data"
    }
   ],
   "source": [
    "p = 0.1\n",
    "n = 20\n",
    "k = np.arange(0, n)\n",
    "binomial_res = binomial_dist_func(k, n, p)\n",
    "print( binomial_res )\n",
    "\n",
    "# grafico\n",
    "plt.plot(k, binomial_res)\n",
    "plt.ylabel('binomial(k)')\n",
    "plt.show()"
   ]
  },
  {
   "cell_type": "markdown",
   "metadata": {},
   "source": [
    "## 2. Distribuição de Poisson\n",
    "\n",
    "$P(N=k) = \\frac{e^{-\\lambda}\\lambda^k}{k!}$, $k = 0, 1, \\ldots, n$"
   ]
  },
  {
   "cell_type": "code",
   "execution_count": 11,
   "metadata": {},
   "outputs": [],
   "source": [
    "def poisson_func(k, lambda_):\n",
    "    return np.exp(-lambda_) * (lambda_ ** k) / factorial(k)"
   ]
  },
  {
   "cell_type": "code",
   "execution_count": 17,
   "metadata": {},
   "outputs": [
    {
     "data": {
      "text/plain": [
       "0.17546736976785071"
      ]
     },
     "execution_count": 17,
     "metadata": {},
     "output_type": "execute_result"
    }
   ],
   "source": [
    "lambda_ = 5\n",
    "k = 5\n",
    "poisson_func(k, lambda_)"
   ]
  },
  {
   "cell_type": "code",
   "execution_count": 16,
   "metadata": {},
   "outputs": [
    {
     "name": "stdout",
     "output_type": "stream",
     "text": [
      "[  6.73794700e-003   3.36897350e-002   8.42243375e-002   1.40373896e-001\n",
      "   1.75467370e-001   1.75467370e-001   1.46222808e-001   1.04444863e-001\n",
      "   6.52780393e-002   3.62655774e-002   1.81327887e-002   8.24217669e-003\n",
      "   3.43424029e-003   1.32086165e-003   4.71736303e-004   1.57245434e-004\n",
      "   4.91391982e-005   1.44527054e-005   4.01464038e-006   1.05648431e-006\n",
      "   2.64121077e-007   6.28859708e-008   1.42922661e-008   3.10701437e-009\n",
      "   6.47294660e-010   1.29458932e-010   2.48959485e-011   4.61036083e-012\n",
      "   7.94296721e-015   1.36947711e-015   2.28246184e-016   6.58268999e-018\n",
      "   8.38199776e-020  -1.61402361e-021   1.83644181e-022   2.17770619e-024\n",
      "  -3.16682622e-026  -4.27949489e-027  -8.78034446e-029   9.30019623e-031\n",
      "  -3.60834408e-032  -6.84910011e-034   6.92760831e-036   8.05535850e-037\n",
      "  -1.97612103e-039  -2.19569003e-040  -1.27820422e-042  -1.35979172e-043\n",
      "  -4.15208942e-045  -1.50128924e-047  -1.50128924e-048   1.30774084e-050\n",
      "  -2.83543697e-052   2.32581741e-054   2.15353464e-055  -1.68698510e-060\n",
      "  -1.50623670e-061  -1.32126026e-062  -1.13901747e-063  -9.65269041e-065\n",
      "   6.89340371e-066   7.52851439e-068  -1.82777786e-069  -1.96782362e-071\n",
      "   4.21754966e-073   2.30242548e-075  -5.39091623e-077  -6.15081739e-079\n",
      "   4.89090257e-081   3.54413230e-082   4.56264228e-084   2.90228587e-086\n",
      "  -1.43152104e-089  -9.80493862e-091  -6.62495853e-092   5.93336331e-094\n",
      "  -2.68854433e-095  -3.35812983e-098  -2.15264732e-099   2.69083052e-102\n",
      "   1.68176907e-103   1.03812906e-104   1.10066905e-106   3.30071140e-109\n",
      "  -1.78556779e-110  -1.67915886e-112   4.98124127e-115   2.86278234e-116\n",
      "   2.86367232e-118   1.02946646e-120  -2.64661979e-122   3.84467792e-124\n",
      "   9.09613819e-127   4.89039688e-128   3.15141913e-130   4.55413744e-132\n",
      "  -1.34778222e-134   5.97393082e-136   4.10931670e-138  -5.88216032e-140]\n"
     ]
    },
    {
     "data": {
      "image/png": "[encoded data removed]",
      "text/plain": [
       "<matplotlib.figure.Figure at 0x7f6ba4d49be0>"
      ]
     },
     "metadata": {},
     "output_type": "display_data"
    }
   ],
   "source": [
    "lambda_ = 5\n",
    "k = np.arange(0, 100)\n",
    "poisson_res = poisson_func(k, lambda_)\n",
    "print( poisson_res )\n",
    "\n",
    "# grafico\n",
    "plt.plot(k, poisson_res)\n",
    "plt.ylabel('poisson(k)')\n",
    "plt.show()"
   ]
  },
  {
   "cell_type": "markdown",
   "metadata": {},
   "source": [
    "## 3. Distribuição Normal\n",
    "\n",
    "$f(x; \\mu, \\sigma^2) = \\frac{1}{\\sqrt{2\\pi\\sigma^2}} e^{-\\left(\\frac{x-\\mu}{2\\sigma}\\right)^2}$, $-\\infty \\leq x \\leq \\infty$"
   ]
  },
  {
   "cell_type": "code",
   "execution_count": 24,
   "metadata": {},
   "outputs": [],
   "source": [
    "def normal_dist_func(x, mu, sigma):\n",
    "    return (1 / np.sqrt(2 * np.pi * (sigma ** 2))) * np.exp( -((x-mu) ** 2)/(2 * (sigma ** 2)) )"
   ]
  },
  {
   "cell_type": "code",
   "execution_count": 31,
   "metadata": {},
   "outputs": [
    {
     "data": {
      "text/plain": [
       "0.080656908173047798"
      ]
     },
     "execution_count": 31,
     "metadata": {},
     "output_type": "execute_result"
    }
   ],
   "source": [
    "mu = 1\n",
    "sigma = 3\n",
    "x = 4\n",
    "normal_dist_func(x, mu, sigma)"
   ]
  },
  {
   "cell_type": "code",
   "execution_count": 29,
   "metadata": {
    "scrolled": true
   },
   "outputs": [
    {
     "name": "stdout",
     "output_type": "stream",
     "text": [
      "[  1.33830226e-04   1.98655471e-04   2.91946926e-04   4.24780271e-04\n",
      "   6.11901930e-04   8.72682695e-04   1.23221917e-03   1.72256894e-03\n",
      "   2.38408820e-03   3.26681906e-03   4.43184841e-03   5.95253242e-03\n",
      "   7.91545158e-03   1.04209348e-02   1.35829692e-02   1.75283005e-02\n",
      "   2.23945303e-02   2.83270377e-02   3.54745928e-02   4.39835960e-02\n",
      "   5.39909665e-02   6.56158148e-02   7.89501583e-02   9.40490774e-02\n",
      "   1.10920835e-01   1.29517596e-01   1.49727466e-01   1.71368592e-01\n",
      "   1.94186055e-01   2.17852177e-01   2.41970725e-01   2.66085250e-01\n",
      "   2.89691553e-01   3.12253933e-01   3.33224603e-01   3.52065327e-01\n",
      "   3.68270140e-01   3.81387815e-01   3.91042694e-01   3.96952547e-01\n",
      "   3.98942280e-01   3.96952547e-01   3.91042694e-01   3.81387815e-01\n",
      "   3.68270140e-01   3.52065327e-01   3.33224603e-01   3.12253933e-01\n",
      "   2.89691553e-01   2.66085250e-01   2.41970725e-01   2.17852177e-01\n",
      "   1.94186055e-01   1.71368592e-01   1.49727466e-01   1.29517596e-01\n",
      "   1.10920835e-01   9.40490774e-02   7.89501583e-02   6.56158148e-02\n",
      "   5.39909665e-02   4.39835960e-02   3.54745928e-02   2.83270377e-02\n",
      "   2.23945303e-02   1.75283005e-02   1.35829692e-02   1.04209348e-02\n",
      "   7.91545158e-03   5.95253242e-03   4.43184841e-03   3.26681906e-03\n",
      "   2.38408820e-03   1.72256894e-03   1.23221917e-03   8.72682695e-04\n",
      "   6.11901930e-04   4.24780271e-04   2.91946926e-04   1.98655471e-04\n",
      "   1.33830226e-04]\n"
     ]
    },
    {
     "data": {
      "image/png": "[encoded data removed]",
      "text/plain": [
       "<matplotlib.figure.Figure at 0x7efe37114400>"
      ]
     },
     "metadata": {},
     "output_type": "display_data"
    }
   ],
   "source": [
    "mu = 0\n",
    "sigma = 1\n",
    "x = np.arange(-4, 4.1, 0.1)\n",
    "normal_res = normal_dist_func(x, mu, sigma)\n",
    "print(normal_res)\n",
    "\n",
    "# grafico\n",
    "plt.plot(x, normal_res)\n",
    "plt.ylabel('normal(x)')\n",
    "plt.show()"
   ]
  },
  {
   "cell_type": "markdown",
   "metadata": {},
   "source": [
    "## 4. Distribuição exponencial\n",
    "\n",
    "$f(t,\\beta)= \\begin{cases}\n",
    "    \\frac{1}{\\beta}e^{-\\frac{t}{\\beta}}, & \\text{se $t \\geq 0$}\\\\\n",
    "    0, & \\text{se $t \\leq 0$}\n",
    "  \\end{cases}$, $\\beta > 0$, $-\\infty \\leq t \\leq \\infty$"
   ]
  },
  {
   "cell_type": "code",
   "execution_count": 77,
   "metadata": {},
   "outputs": [],
   "source": [
    "def exponen_dist_func(t, beta):\n",
    "    return np.where( t <= 0, 0, (1/beta) * np.exp(-(t/beta)) )"
   ]
  },
  {
   "cell_type": "code",
   "execution_count": 80,
   "metadata": {},
   "outputs": [
    {
     "name": "stdout",
     "output_type": "stream",
     "text": [
      "0.06295853427918727\n"
     ]
    }
   ],
   "source": [
    "beta = 3\n",
    "t = 5\n",
    "print( exponen_dist_func(t, beta) )"
   ]
  },
  {
   "cell_type": "code",
   "execution_count": 79,
   "metadata": {},
   "outputs": [
    {
     "name": "stdout",
     "output_type": "stream",
     "text": [
      "[ 0.          0.16374615  0.13406401  0.10976233  0.08986579  0.07357589\n",
      "  0.06023884  0.04931939  0.0403793   0.03305978  0.02706706  0.02216063\n",
      "  0.01814359  0.01485472  0.01216201  0.00995741  0.00815244  0.00667465\n",
      "  0.00546474  0.00447415]\n"
     ]
    },
    {
     "data": {
      "image/png": "[encoded data removed]",
      "text/plain": [
       "<matplotlib.figure.Figure at 0x7f6ba4c1cef0>"
      ]
     },
     "metadata": {},
     "output_type": "display_data"
    }
   ],
   "source": [
    "beta = 5\n",
    "t = np.arange(0, 20)\n",
    "exponen_res = exponen_dist_func(t, beta)\n",
    "print(exponen_res)\n",
    "\n",
    "# grafico\n",
    "plt.plot(t, exponen_res)\n",
    "plt.ylabel('exponencial(t)')\n",
    "plt.show()"
   ]
  },
  {
   "cell_type": "markdown",
   "metadata": {},
   "source": [
    "## 5. Distribuição Gama\n",
    "\n",
    "$f(x; \\alpha, \\beta) = \\begin{cases}\n",
    "                        \\frac{1}{\\Gamma\\left(\\alpha\\right)\\beta^\\alpha}x^{\\alpha-1} e^{-\\frac{x}{\\beta}}, & \\text{se $x \\geq 0$}\\\\\n",
    "                        0, & \\text{se $x < 0$}\n",
    "                        \\end{cases}$, $\\alpha > 0$ e $\\beta > 0$\n",
    "\n",
    "$\\Gamma\\left( \\alpha \\right) = \\int^{\\infty}_{0}e^{-x}x^{\\alpha-1}, \\alpha > 0$"
   ]
  },
  {
   "cell_type": "code",
   "execution_count": 17,
   "metadata": {},
   "outputs": [],
   "source": [
    "def gama_dist_func(x, alpha, beta):\n",
    "    return np.where(x < 0, 0, (1 / (gamma(alpha) * (beta ** alpha))) * (x ** (alpha-1)) * np.exp(-(x/beta)) )"
   ]
  },
  {
   "cell_type": "code",
   "execution_count": 31,
   "metadata": {},
   "outputs": [
    {
     "name": "stdout",
     "output_type": "stream",
     "text": [
      "0.03790816623203959\n"
     ]
    }
   ],
   "source": [
    "a = 2\n",
    "b = 8\n",
    "x = 4\n",
    "print( gama_dist_func(x, a, b) )"
   ]
  },
  {
   "cell_type": "code",
   "execution_count": 30,
   "metadata": {},
   "outputs": [
    {
     "name": "stdout",
     "output_type": "stream",
     "text": [
      "[ 0.          0.          0.01378901  0.02433752  0.03221668  0.03790817\n",
      "  0.0418173   0.04428436  0.04559428  0.04598493  0.04565425  0.04476637\n",
      "  0.04345681  0.04183691  0.03999768  0.03801305  0.03594257  0.03383382\n",
      "  0.03172438  0.02964353  0.02761368  0.02565156  0.0237693   0.0219752\n",
      "  0.02027455  0.01867015  0.01716286  0.01575202  0.01443577  0.01321136\n",
      "  0.01207537  0.01102394  0.01005288  0.00915782  0.0083343   0.00757787\n",
      "  0.00688414  0.00624881  0.00566774  0.00513694  0.00465264  0.00421122\n",
      "  0.0038093   0.00344368  0.0031114   0.00280966  0.00253586  0.00228762\n",
      "  0.00206271  0.00185906  0.0016748 ]\n"
     ]
    },
    {
     "data": {
      "image/png": "[encoded data removed]",
      "text/plain": [
       "<matplotlib.figure.Figure at 0x7efe3707cbe0>"
      ]
     },
     "metadata": {},
     "output_type": "display_data"
    }
   ],
   "source": [
    "a = 2\n",
    "b = 8\n",
    "x = np.arange(-1, 50)\n",
    "gama_res = gama_dist_func(x, a, b)\n",
    "print( gama_res )\n",
    "\n",
    "# grafico\n",
    "plt.plot(x, gama_res)\n",
    "plt.ylabel('gama(x)')\n",
    "plt.show()"
   ]
  },
  {
   "cell_type": "markdown",
   "metadata": {},
   "source": [
    "## 6. Distribuição Qui-Quadrado $\\left(\\chi^2\\right)$ \n",
    "\n",
    "$\\chi^2\\left(\\nu\\right) = f\\left(x, \\nu\\right) = \\begin{cases}\n",
    "                                                 \\frac{1}{\\Gamma\\left(\\nu/2\\right)2^{\\nu/2}}x^{\\nu/2-1}e^{-x/2}, & \\text{se $x \\geq 0$} \\\\\n",
    "                                                 0, & \\text{se $x < 0$}\n",
    "                                                 \\end{cases}$, $\\nu > 0$"
   ]
  },
  {
   "cell_type": "code",
   "execution_count": 34,
   "metadata": {},
   "outputs": [],
   "source": [
    "def qui_dist_func(x, v):\n",
    "    return np.where(x < 0, 0, (1 / (gamma(v/2) * (2 ** (v/2)))) * (x ** ((v/2)-1)) * np.exp(-x/2) )"
   ]
  },
  {
   "cell_type": "code",
   "execution_count": 46,
   "metadata": {},
   "outputs": [
    {
     "name": "stdout",
     "output_type": "stream",
     "text": [
      "0.15418032980376925\n"
     ]
    }
   ],
   "source": [
    "v = 5\n",
    "x = 3\n",
    "print( qui_dist_func(x, v) )"
   ]
  },
  {
   "cell_type": "code",
   "execution_count": 44,
   "metadata": {},
   "outputs": [
    {
     "name": "stdout",
     "output_type": "stream",
     "text": [
      "[  0.00000000e+00   3.66159408e-02   8.06569082e-02   1.15399742e-01\n",
      "   1.38369166e-01   1.50601994e-01   1.54180330e-01   1.51312753e-01\n",
      "   1.43975911e-01   1.33796575e-01   1.22041521e-01   1.09653632e-01\n",
      "   9.73043467e-02   8.54479760e-02   7.43712677e-02   6.42356908e-02\n",
      "   5.51119609e-02   4.70073373e-02   3.98866357e-02   3.36880156e-02\n",
      "   2.83345553e-02   2.37425155e-02   1.98270540e-02   1.65060175e-02\n",
      "   1.37023100e-02   1.13452304e-02   9.37108133e-03   7.72327877e-03\n",
      "   6.35213166e-03   5.21441774e-03   4.27284447e-03   3.49545829e-03\n",
      "   2.85504482e-03   2.32854831e-03   1.89652729e-03   1.54265627e-03\n",
      "   1.25327747e-03   1.01700350e-03   8.24368967e-04   6.67528065e-04\n",
      "   5.39994064e-04   4.36416501e-04   3.52391718e-04   2.84302593e-04\n",
      "   2.29183597e-04   1.84607639e-04   1.48591519e-04   1.19517209e-04\n",
      "   9.60664829e-05   7.71668077e-05   6.19466464e-05   4.96986323e-05\n",
      "   3.98492882e-05   3.19341776e-05   2.55775505e-05   2.04756985e-05\n",
      "   1.63833652e-05   1.31026679e-05   1.04740784e-05   8.36908978e-06]\n"
     ]
    },
    {
     "data": {
      "image/png": "[encoded data removed]",
      "text/plain": [
       "<matplotlib.figure.Figure at 0x7efe39392320>"
      ]
     },
     "metadata": {},
     "output_type": "display_data"
    }
   ],
   "source": [
    "v = 5\n",
    "x = np.arange(0, 30, 0.5)\n",
    "qui_dist_res = qui_dist_func(x, v)\n",
    "print( qui_dist_res )\n",
    "\n",
    "# grafico\n",
    "plt.plot(x, qui_dist_res)\n",
    "plt.ylabel('qui(x)')\n",
    "plt.show()"
   ]
  },
  {
   "cell_type": "markdown",
   "metadata": {},
   "source": [
    "## 7. Distribuição t de Student\n",
    "\n",
    "$f\\left(t, \\nu\\right) = \\frac{\\Gamma\\left[\\left(\\nu+1\\right)/2\\right]}{\\Gamma\\left(\\nu/2\\right)\\sqrt{\\pi\\nu}}\\left(1+t^2/\\nu\\right)^{-(\\nu+1)/2}$, $-\\infty \\leq t \\leq \\infty$"
   ]
  },
  {
   "cell_type": "code",
   "execution_count": 53,
   "metadata": {},
   "outputs": [],
   "source": [
    "def t_dist_func(t, v):\n",
    "    return (gamma((v+1)/2) / (gamma(v/2) * np.sqrt(np.pi * v))) * (((1 + (t ** 2)) / v) ** (-(v+1)/2))"
   ]
  },
  {
   "cell_type": "code",
   "execution_count": 54,
   "metadata": {},
   "outputs": [
    {
     "data": {
      "text/plain": [
       "0.0474508362278118"
      ]
     },
     "execution_count": 54,
     "metadata": {},
     "output_type": "execute_result"
    }
   ],
   "source": [
    "v = 5\n",
    "t = 3\n",
    "t_dist_func(t, v)"
   ]
  },
  {
   "cell_type": "code",
   "execution_count": 56,
   "metadata": {},
   "outputs": [
    {
     "name": "stdout",
     "output_type": "stream",
     "text": [
      "[  4.74508362e-02   5.69475442e-02   6.86889813e-02   8.32875868e-02\n",
      "   1.01545038e-01   1.24517345e-01   1.53604445e-01   1.90674201e-01\n",
      "   2.38234870e-01   2.99676077e-01   3.79606690e-01   4.84329692e-01\n",
      "   6.22509955e-01   8.06111406e-01   1.05170485e+00   1.38227288e+00\n",
      "   1.82965302e+00   2.43773802e+00   3.26643779e+00   4.39609480e+00\n",
      "   5.93135453e+00   8.00217686e+00   1.07575241e+01   1.43444885e+01\n",
      "   1.88637115e+01   2.42948281e+01   3.03997423e+01   3.66407519e+01\n",
      "   4.21836206e+01   4.60553142e+01   4.74508362e+01   4.60553142e+01\n",
      "   4.21836206e+01   3.66407519e+01   3.03997423e+01   2.42948281e+01\n",
      "   1.88637115e+01   1.43444885e+01   1.07575241e+01   8.00217686e+00\n",
      "   5.93135453e+00   4.39609480e+00   3.26643779e+00   2.43773802e+00\n",
      "   1.82965302e+00   1.38227288e+00   1.05170485e+00   8.06111406e-01\n",
      "   6.22509955e-01   4.84329692e-01   3.79606690e-01   2.99676077e-01\n",
      "   2.38234870e-01   1.90674201e-01   1.53604445e-01   1.24517345e-01\n",
      "   1.01545038e-01   8.32875868e-02   6.86889813e-02   5.69475442e-02\n",
      "   4.74508362e-02]\n"
     ]
    },
    {
     "data": {
      "image/png": "[encoded data removed]",
      "text/plain": [
       "<matplotlib.figure.Figure at 0x7efe370d4908>"
      ]
     },
     "metadata": {},
     "output_type": "display_data"
    }
   ],
   "source": [
    "v = 5\n",
    "t = np.arange(-3, 3.1, 0.1)\n",
    "t_res = t_dist_func(t, v)\n",
    "print( t_res )\n",
    "\n",
    "# grafico\n",
    "plt.plot(t, t_res)\n",
    "plt.ylabel('t(v)')\n",
    "plt.show()"
   ]
  },
  {
   "cell_type": "markdown",
   "metadata": {},
   "source": [
    "## 8. Distribuição F de Snedecor\n",
    "\n",
    "$g\\left(w, \\nu_1, \\nu_2\\right) = \\frac{\\Gamma\\left[\\left(\\nu_1+\\nu_2\\right)/2\\right]}{\\Gamma\\left(\\nu_1/2\\right)\\Gamma\\left(\\nu_2/2\\right)}\\left(\\frac{\\nu_1}{\\nu_2}\\right)^{\\nu_2^2}\\frac{w\\left(\\nu_1-2\\right)/2}{\\left(1+\\nu_1w/\\nu_2\\right)\\left(\\nu_1+\\nu_2\\right)/2}, w > 0$"
   ]
  },
  {
   "cell_type": "code",
   "execution_count": 57,
   "metadata": {},
   "outputs": [],
   "source": [
    "def f_dist_func(w, v1, v2):\n",
    "    return (gamma((v1+v2)/2) / (gamma(v1/2) * gamma(v2/2))) * ((v1/v2) ** (v1 ** 2)) * (((w*(v1-2))/2) / ((((1+(v1*w))/v2) * (v1+v2)) / 2))"
   ]
  },
  {
   "cell_type": "code",
   "execution_count": 60,
   "metadata": {},
   "outputs": [
    {
     "data": {
      "text/plain": [
       "0.063319942520183914"
      ]
     },
     "execution_count": 60,
     "metadata": {},
     "output_type": "execute_result"
    }
   ],
   "source": [
    "v1 = 5\n",
    "v2 = 6\n",
    "w = 3\n",
    "f_dist_func(w, v1, v2)"
   ]
  },
  {
   "cell_type": "code",
   "execution_count": 64,
   "metadata": {},
   "outputs": [
    {
     "name": "stdout",
     "output_type": "stream",
     "text": [
      "[   0.          514.69015892  561.48017337  579.02642879  588.21732448\n",
      "  593.87326029  597.70470068  600.47185208  602.56408849  604.20149091\n",
      "  605.51783403  606.59911587  607.5031384   608.27018782  608.9292021\n",
      "  609.50150399  610.00315131  610.44646756  610.84106773  611.19456372\n",
      "  611.51306011  611.80150966  612.06397277  612.30380975  612.52382549\n",
      "  612.72637967  612.91347169  613.08680695  613.24784893  613.39786063\n",
      "  613.53793779  613.66903564  613.79199076  613.90753896  614.01632994\n",
      "  614.11893962  614.21588026  614.30760904  614.39453526  614.47702647\n",
      "  614.55541364  614.62999561  614.70104288  614.76880093  614.83349301\n",
      "  614.89532261  614.95447559  615.0111221   615.06541813  615.117507\n",
      "  615.16752062  615.21558059  615.26179917  615.30628021  615.34911989\n",
      "  615.39040741  615.43022561  615.46865158  615.50575706  615.54160898\n",
      "  615.57626981  615.60979793  615.64224797  615.67367112  615.70411535\n",
      "  615.7336257   615.76224451  615.79001157  615.81696434  615.84313813\n",
      "  615.86856623  615.89328006  615.91730929  615.94068199  615.96342469\n",
      "  615.98556254  616.00711934  616.02811767  616.04857897  616.06852356\n",
      "  616.08797078  616.10693901  616.12544572  616.14350756  616.16114037\n",
      "  616.17835927  616.19517866  616.21161229  616.22767327  616.24337414\n",
      "  616.25872687  616.27374292  616.28843324  616.30280832  616.3168782\n",
      "  616.33065249  616.34414041  616.35735081  616.37029215  616.38297258]\n"
     ]
    },
    {
     "data": {
      "image/png": "[encoded data removed]",
      "text/plain": [
       "<matplotlib.figure.Figure at 0x7efe370d4da0>"
      ]
     },
     "metadata": {},
     "output_type": "display_data"
    }
   ],
   "source": [
    "v1 = 5\n",
    "v2 = 4\n",
    "w = np.arange(0, 100)\n",
    "f_dist_res = f_dist_func(w, v1, v2)\n",
    "print(f_dist_res)\n",
    "\n",
    "# grafico\n",
    "plt.plot(w, f_dist_res)\n",
    "plt.ylabel('F(w)')\n",
    "plt.show()"
   ]
  }
 ],
 "metadata": {
  "kernelspec": {
   "display_name": "Python 3",
   "language": "python",
   "name": "python3"
  },
  "language_info": {
   "codemirror_mode": {
    "name": "ipython",
    "version": 3
   },
   "file_extension": ".py",
   "mimetype": "text/x-python",
   "name": "python",
   "nbconvert_exporter": "python",
   "pygments_lexer": "ipython3",
   "version": "3.5.4"
  }
 },
 "nbformat": 4,
 "nbformat_minor": 2
}
