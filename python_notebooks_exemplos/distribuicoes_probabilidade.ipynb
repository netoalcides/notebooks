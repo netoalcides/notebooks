{
 "cells": [
  {
   "cell_type": "markdown",
   "metadata": {},
   "source": [
    "# Distribuições de probabilidade"
   ]
  },
  {
   "cell_type": "code",
   "execution_count": 1,
   "metadata": {},
   "outputs": [],
   "source": [
    "import matplotlib.pyplot as plt\n",
    "import numpy as np\n",
    "from scipy.special import factorial"
   ]
  },
  {
   "cell_type": "markdown",
   "metadata": {},
   "source": [
    "## Distribuição Binomial\n",
    "\n",
    "$P(X = k) = \\frac{!n}{k!\\left(n-k\\right)!} p^k \\left(1-p\\right)^{n-k}$, $k = 0, 1, \\ldots, n$"
   ]
  },
  {
   "cell_type": "code",
   "execution_count": 2,
   "metadata": {},
   "outputs": [],
   "source": [
    "def binomial_dist_func(k, n, p):\n",
    "    return (factorial(n) / (factorial(k) * factorial(n-k))) * (p ** k) * ((1-p) ** (n-k))"
   ]
  },
  {
   "cell_type": "code",
   "execution_count": 3,
   "metadata": {},
   "outputs": [
    {
     "data": {
      "text/plain": [
       "0.057395628000000018"
      ]
     },
     "execution_count": 3,
     "metadata": {},
     "output_type": "execute_result"
    }
   ],
   "source": [
    "p = 0.1\n",
    "n = 10\n",
    "k = 3\n",
    "binomial_dist_func(k, n, p)"
   ]
  },
  {
   "cell_type": "code",
   "execution_count": 10,
   "metadata": {},
   "outputs": [
    {
     "name": "stdout",
     "output_type": "stream",
     "text": [
      "[  1.21576655e-01   2.70170344e-01   2.85179807e-01   1.90119871e-01\n",
      "   8.97788281e-02   3.19213611e-02   8.86704476e-03   1.97045439e-03\n",
      "   3.55776487e-04   5.27076277e-05   6.44204339e-06   6.50711453e-07\n",
      "   5.42259544e-08   3.70775757e-09   2.05986532e-10   9.15495696e-12\n",
      "   3.17880450e-13   8.31060000e-15   1.53900000e-16   1.80000000e-18]\n"
     ]
    },
    {
     "data": {
      "image/png": "[encoded data removed]",
      "text/plain": [
       "<matplotlib.figure.Figure at 0x7f6ba4c0e4a8>"
      ]
     },
     "metadata": {},
     "output_type": "display_data"
    }
   ],
   "source": [
    "p = 0.1\n",
    "n = 20\n",
    "k = np.arange(0, n)\n",
    "binomial_res = binomial_dist_func(k, n, p)\n",
    "print( binomial_res )\n",
    "\n",
    "# grafico\n",
    "plt.plot(k, binomial_res)\n",
    "plt.ylabel('binomial(k)')\n",
    "plt.show()"
   ]
  },
  {
   "cell_type": "markdown",
   "metadata": {},
   "source": [
    "## Distribuição de Poisson\n",
    "\n",
    "$P(N=k) = \\frac{e^{-\\lambda}\\lambda^k}{k!}$, $k = 0, 1, \\ldots, n$"
   ]
  },
  {
   "cell_type": "code",
   "execution_count": 11,
   "metadata": {},
   "outputs": [],
   "source": [
    "def poisson_func(k, lambda_):\n",
    "    return np.exp(-lambda_) * (lambda_ ** k) / factorial(k)"
   ]
  },
  {
   "cell_type": "code",
   "execution_count": 17,
   "metadata": {},
   "outputs": [
    {
     "data": {
      "text/plain": [
       "0.17546736976785071"
      ]
     },
     "execution_count": 17,
     "metadata": {},
     "output_type": "execute_result"
    }
   ],
   "source": [
    "lambda_ = 5\n",
    "k = 5\n",
    "poisson_func(k, lambda_)"
   ]
  },
  {
   "cell_type": "code",
   "execution_count": 16,
   "metadata": {},
   "outputs": [
    {
     "name": "stdout",
     "output_type": "stream",
     "text": [
      "[  6.73794700e-003   3.36897350e-002   8.42243375e-002   1.40373896e-001\n",
      "   1.75467370e-001   1.75467370e-001   1.46222808e-001   1.04444863e-001\n",
      "   6.52780393e-002   3.62655774e-002   1.81327887e-002   8.24217669e-003\n",
      "   3.43424029e-003   1.32086165e-003   4.71736303e-004   1.57245434e-004\n",
      "   4.91391982e-005   1.44527054e-005   4.01464038e-006   1.05648431e-006\n",
      "   2.64121077e-007   6.28859708e-008   1.42922661e-008   3.10701437e-009\n",
      "   6.47294660e-010   1.29458932e-010   2.48959485e-011   4.61036083e-012\n",
      "   7.94296721e-015   1.36947711e-015   2.28246184e-016   6.58268999e-018\n",
      "   8.38199776e-020  -1.61402361e-021   1.83644181e-022   2.17770619e-024\n",
      "  -3.16682622e-026  -4.27949489e-027  -8.78034446e-029   9.30019623e-031\n",
      "  -3.60834408e-032  -6.84910011e-034   6.92760831e-036   8.05535850e-037\n",
      "  -1.97612103e-039  -2.19569003e-040  -1.27820422e-042  -1.35979172e-043\n",
      "  -4.15208942e-045  -1.50128924e-047  -1.50128924e-048   1.30774084e-050\n",
      "  -2.83543697e-052   2.32581741e-054   2.15353464e-055  -1.68698510e-060\n",
      "  -1.50623670e-061  -1.32126026e-062  -1.13901747e-063  -9.65269041e-065\n",
      "   6.89340371e-066   7.52851439e-068  -1.82777786e-069  -1.96782362e-071\n",
      "   4.21754966e-073   2.30242548e-075  -5.39091623e-077  -6.15081739e-079\n",
      "   4.89090257e-081   3.54413230e-082   4.56264228e-084   2.90228587e-086\n",
      "  -1.43152104e-089  -9.80493862e-091  -6.62495853e-092   5.93336331e-094\n",
      "  -2.68854433e-095  -3.35812983e-098  -2.15264732e-099   2.69083052e-102\n",
      "   1.68176907e-103   1.03812906e-104   1.10066905e-106   3.30071140e-109\n",
      "  -1.78556779e-110  -1.67915886e-112   4.98124127e-115   2.86278234e-116\n",
      "   2.86367232e-118   1.02946646e-120  -2.64661979e-122   3.84467792e-124\n",
      "   9.09613819e-127   4.89039688e-128   3.15141913e-130   4.55413744e-132\n",
      "  -1.34778222e-134   5.97393082e-136   4.10931670e-138  -5.88216032e-140]\n"
     ]
    },
    {
     "data": {
      "image/png": "[encoded data removed]",
      "text/plain": [
       "<matplotlib.figure.Figure at 0x7f6ba4d49be0>"
      ]
     },
     "metadata": {},
     "output_type": "display_data"
    }
   ],
   "source": [
    "lambda_ = 5\n",
    "k = np.arange(0, 100)\n",
    "poisson_res = poisson_func(k, lambda_)\n",
    "print( poisson_res )\n",
    "\n",
    "# grafico\n",
    "plt.plot(k, poisson_res)\n",
    "plt.ylabel('poisson(k)')\n",
    "plt.show()"
   ]
  },
  {
   "cell_type": "code",
   "execution_count": null,
   "metadata": {},
   "outputs": [],
   "source": []
  },
  {
   "cell_type": "code",
   "execution_count": null,
   "metadata": {},
   "outputs": [],
   "source": []
  },
  {
   "cell_type": "code",
   "execution_count": null,
   "metadata": {},
   "outputs": [],
   "source": []
  },
  {
   "cell_type": "code",
   "execution_count": null,
   "metadata": {},
   "outputs": [],
   "source": []
  }
 ],
 "metadata": {
  "kernelspec": {
   "display_name": "Python 3",
   "language": "python",
   "name": "python3"
  },
  "language_info": {
   "codemirror_mode": {
    "name": "ipython",
    "version": 3
   },
   "file_extension": ".py",
   "mimetype": "text/x-python",
   "name": "python",
   "nbconvert_exporter": "python",
   "pygments_lexer": "ipython3",
   "version": "3.5.4"
  }
 },
 "nbformat": 4,
 "nbformat_minor": 2
}
