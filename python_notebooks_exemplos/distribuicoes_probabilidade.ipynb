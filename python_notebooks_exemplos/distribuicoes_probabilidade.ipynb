{
 "cells": [
  {
   "cell_type": "markdown",
   "metadata": {},
   "source": [
    "# Distribuições de probabilidade"
   ]
  },
  {
   "cell_type": "code",
   "execution_count": 1,
   "metadata": {},
   "outputs": [],
   "source": [
    "import matplotlib.pyplot as plt\n",
    "import numpy as np\n",
    "from scipy.special import factorial, gamma"
   ]
  },
  {
   "cell_type": "markdown",
   "metadata": {},
   "source": [
    "## 1. Distribuição Binomial\n",
    "\n",
    "$P(X = k) = \\frac{!n}{k!\\left(n-k\\right)!} p^k \\left(1-p\\right)^{n-k}$, $k = 0, 1, \\ldots, n$"
   ]
  },
  {
   "cell_type": "code",
   "execution_count": 2,
   "metadata": {},
   "outputs": [],
   "source": [
    "def binomial_dist_func(k, n, p):\n",
    "    return (factorial(n) / (factorial(k) * factorial(n-k))) * (p ** k) * ((1-p) ** (n-k))"
   ]
  },
  {
   "cell_type": "code",
   "execution_count": 3,
   "metadata": {},
   "outputs": [
    {
     "data": {
      "text/plain": [
       "0.057395628000000018"
      ]
     },
     "execution_count": 3,
     "metadata": {},
     "output_type": "execute_result"
    }
   ],
   "source": [
    "p = 0.1\n",
    "n = 10\n",
    "k = 3\n",
    "binomial_dist_func(k, n, p)"
   ]
  },
  {
   "cell_type": "code",
   "execution_count": 4,
   "metadata": {},
   "outputs": [
    {
     "name": "stdout",
     "output_type": "stream",
     "text": [
      "[  1.21576655e-01   2.70170344e-01   2.85179807e-01   1.90119871e-01\n",
      "   8.97788281e-02   3.19213611e-02   8.86704476e-03   1.97045439e-03\n",
      "   3.55776487e-04   5.27076277e-05   6.44204339e-06   6.50711453e-07\n",
      "   5.42259544e-08   3.70775757e-09   2.05986532e-10   9.15495696e-12\n",
      "   3.17880450e-13   8.31060000e-15   1.53900000e-16   1.80000000e-18]\n"
     ]
    },
    {
     "data": {
      "image/png": "[encoded data removed]",
      "text/plain": [
       "<matplotlib.figure.Figure at 0x7f5d6069a0f0>"
      ]
     },
     "metadata": {},
     "output_type": "display_data"
    }
   ],
   "source": [
    "p = 0.1\n",
    "n = 20\n",
    "k = np.arange(0, n)\n",
    "binomial_res = binomial_dist_func(k, n, p)\n",
    "print( binomial_res )\n",
    "\n",
    "# grafico\n",
    "plt.plot(k, binomial_res)\n",
    "plt.ylabel('binomial(k)')\n",
    "plt.show()"
   ]
  },
  {
   "cell_type": "markdown",
   "metadata": {},
   "source": [
    "## 2. Distribuição de Poisson\n",
    "\n",
    "$P(N=k) = \\frac{e^{-\\lambda}\\lambda^k}{k!}$, $k = 0, 1, \\ldots, n$"
   ]
  },
  {
   "cell_type": "code",
   "execution_count": 5,
   "metadata": {},
   "outputs": [],
   "source": [
    "def poisson_func(k, lambda_):\n",
    "    return np.exp(-lambda_) * (lambda_ ** k) / factorial(k)"
   ]
  },
  {
   "cell_type": "code",
   "execution_count": 6,
   "metadata": {},
   "outputs": [
    {
     "data": {
      "text/plain": [
       "0.17546736976785071"
      ]
     },
     "execution_count": 6,
     "metadata": {},
     "output_type": "execute_result"
    }
   ],
   "source": [
    "lambda_ = 5\n",
    "k = 5\n",
    "poisson_func(k, lambda_)"
   ]
  },
  {
   "cell_type": "code",
   "execution_count": 7,
   "metadata": {},
   "outputs": [
    {
     "name": "stdout",
     "output_type": "stream",
     "text": [
      "[  6.73794700e-03   3.36897350e-02   8.42243375e-02   1.40373896e-01\n",
      "   1.75467370e-01   1.75467370e-01   1.46222808e-01   1.04444863e-01\n",
      "   6.52780393e-02   3.62655774e-02   1.81327887e-02   8.24217669e-03\n",
      "   3.43424029e-03   1.32086165e-03   4.71736303e-04   1.57245434e-04\n",
      "   4.91391982e-05   1.44527054e-05   4.01464038e-06   1.05648431e-06\n",
      "   2.64121077e-07   6.28859708e-08   1.42922661e-08   3.10701437e-09\n",
      "   6.47294660e-10   1.29458932e-10   2.48959485e-11   4.61036083e-12\n",
      "   7.94296721e-15   1.36947711e-15]\n"
     ]
    },
    {
     "data": {
      "image/png": "[encoded data removed]",
      "text/plain": [
       "<matplotlib.figure.Figure at 0x7f5d6069a4e0>"
      ]
     },
     "metadata": {},
     "output_type": "display_data"
    }
   ],
   "source": [
    "lambda_ = 5\n",
    "k = np.arange(0, 30)\n",
    "poisson_res = poisson_func(k, lambda_)\n",
    "print( poisson_res )\n",
    "\n",
    "# grafico\n",
    "plt.plot(k, poisson_res)\n",
    "plt.ylabel('poisson(k)')\n",
    "plt.show()"
   ]
  },
  {
   "cell_type": "markdown",
   "metadata": {},
   "source": [
    "## 3. Distribuição Normal\n",
    "\n",
    "$f(x; \\mu, \\sigma^2) = \\frac{1}{\\sqrt{2\\pi\\sigma^2}} e^{-\\left(\\frac{x-\\mu}{2\\sigma}\\right)^2}$, $-\\infty \\leq x \\leq \\infty$"
   ]
  },
  {
   "cell_type": "code",
   "execution_count": 8,
   "metadata": {},
   "outputs": [],
   "source": [
    "def normal_dist_func(x, mu, sigma):\n",
    "    return (1 / np.sqrt(2 * np.pi * (sigma ** 2))) * np.exp( -((x-mu) ** 2)/(2 * (sigma ** 2)) )"
   ]
  },
  {
   "cell_type": "code",
   "execution_count": 9,
   "metadata": {},
   "outputs": [
    {
     "data": {
      "text/plain": [
       "0.080656908173047798"
      ]
     },
     "execution_count": 9,
     "metadata": {},
     "output_type": "execute_result"
    }
   ],
   "source": [
    "mu = 1\n",
    "sigma = 3\n",
    "x = 4\n",
    "normal_dist_func(x, mu, sigma)"
   ]
  },
  {
   "cell_type": "code",
   "execution_count": 10,
   "metadata": {
    "scrolled": true
   },
   "outputs": [
    {
     "name": "stdout",
     "output_type": "stream",
     "text": [
      "[  1.33830226e-04   1.98655471e-04   2.91946926e-04   4.24780271e-04\n",
      "   6.11901930e-04   8.72682695e-04   1.23221917e-03   1.72256894e-03\n",
      "   2.38408820e-03   3.26681906e-03   4.43184841e-03   5.95253242e-03\n",
      "   7.91545158e-03   1.04209348e-02   1.35829692e-02   1.75283005e-02\n",
      "   2.23945303e-02   2.83270377e-02   3.54745928e-02   4.39835960e-02\n",
      "   5.39909665e-02   6.56158148e-02   7.89501583e-02   9.40490774e-02\n",
      "   1.10920835e-01   1.29517596e-01   1.49727466e-01   1.71368592e-01\n",
      "   1.94186055e-01   2.17852177e-01   2.41970725e-01   2.66085250e-01\n",
      "   2.89691553e-01   3.12253933e-01   3.33224603e-01   3.52065327e-01\n",
      "   3.68270140e-01   3.81387815e-01   3.91042694e-01   3.96952547e-01\n",
      "   3.98942280e-01   3.96952547e-01   3.91042694e-01   3.81387815e-01\n",
      "   3.68270140e-01   3.52065327e-01   3.33224603e-01   3.12253933e-01\n",
      "   2.89691553e-01   2.66085250e-01   2.41970725e-01   2.17852177e-01\n",
      "   1.94186055e-01   1.71368592e-01   1.49727466e-01   1.29517596e-01\n",
      "   1.10920835e-01   9.40490774e-02   7.89501583e-02   6.56158148e-02\n",
      "   5.39909665e-02   4.39835960e-02   3.54745928e-02   2.83270377e-02\n",
      "   2.23945303e-02   1.75283005e-02   1.35829692e-02   1.04209348e-02\n",
      "   7.91545158e-03   5.95253242e-03   4.43184841e-03   3.26681906e-03\n",
      "   2.38408820e-03   1.72256894e-03   1.23221917e-03   8.72682695e-04\n",
      "   6.11901930e-04   4.24780271e-04   2.91946926e-04   1.98655471e-04\n",
      "   1.33830226e-04]\n"
     ]
    },
    {
     "data": {
      "image/png": "[encoded data removed]",
      "text/plain": [
       "<matplotlib.figure.Figure at 0x7f5d581627f0>"
      ]
     },
     "metadata": {},
     "output_type": "display_data"
    }
   ],
   "source": [
    "mu = 0\n",
    "sigma = 1\n",
    "x = np.arange(-4, 4.1, 0.1)\n",
    "normal_res = normal_dist_func(x, mu, sigma)\n",
    "print(normal_res)\n",
    "\n",
    "# grafico\n",
    "plt.plot(x, normal_res)\n",
    "plt.ylabel('normal(x)')\n",
    "plt.show()"
   ]
  },
  {
   "cell_type": "markdown",
   "metadata": {},
   "source": [
    "## 4. Distribuição exponencial\n",
    "\n",
    "$f(t,\\beta)= \\begin{cases}\n",
    "    \\frac{1}{\\beta}e^{-\\frac{t}{\\beta}}, & \\text{se $t \\geq 0$}\\\\\n",
    "    0, & \\text{se $t \\leq 0$}\n",
    "  \\end{cases}$, $\\beta > 0$, $-\\infty \\leq t \\leq \\infty$"
   ]
  },
  {
   "cell_type": "code",
   "execution_count": 11,
   "metadata": {},
   "outputs": [],
   "source": [
    "def exponen_dist_func(t, beta):\n",
    "    return np.where( t <= 0, 0, (1/beta) * np.exp(-(t/beta)) )"
   ]
  },
  {
   "cell_type": "code",
   "execution_count": 12,
   "metadata": {},
   "outputs": [
    {
     "name": "stdout",
     "output_type": "stream",
     "text": [
      "0.06295853427918727\n"
     ]
    }
   ],
   "source": [
    "beta = 3\n",
    "t = 5\n",
    "print( exponen_dist_func(t, beta) )"
   ]
  },
  {
   "cell_type": "code",
   "execution_count": 13,
   "metadata": {},
   "outputs": [
    {
     "name": "stdout",
     "output_type": "stream",
     "text": [
      "[ 0.          0.16374615  0.13406401  0.10976233  0.08986579  0.07357589\n",
      "  0.06023884  0.04931939  0.0403793   0.03305978  0.02706706  0.02216063\n",
      "  0.01814359  0.01485472  0.01216201  0.00995741  0.00815244  0.00667465\n",
      "  0.00546474  0.00447415]\n"
     ]
    },
    {
     "data": {
      "image/png": "[encoded data removed]",
      "text/plain": [
       "<matplotlib.figure.Figure at 0x7f5d32e4fa58>"
      ]
     },
     "metadata": {},
     "output_type": "display_data"
    }
   ],
   "source": [
    "beta = 5\n",
    "t = np.arange(0, 20)\n",
    "exponen_res = exponen_dist_func(t, beta)\n",
    "print(exponen_res)\n",
    "\n",
    "# grafico\n",
    "plt.plot(t, exponen_res)\n",
    "plt.ylabel('exponencial(t)')\n",
    "plt.show()"
   ]
  },
  {
   "cell_type": "markdown",
   "metadata": {},
   "source": [
    "## 5. Distribuição Gama\n",
    "\n",
    "$f(x; \\alpha, \\beta) = \\begin{cases}\n",
    "                        \\frac{1}{\\Gamma\\left(\\alpha\\right)\\beta^\\alpha}x^{\\alpha-1} e^{-\\frac{x}{\\beta}}, & \\text{se $x \\geq 0$}\\\\\n",
    "                        0, & \\text{se $x < 0$}\n",
    "                        \\end{cases}$, $\\alpha > 0$ e $\\beta > 0$\n",
    "\n",
    "$\\Gamma\\left( \\alpha \\right) = \\int^{\\infty}_{0}e^{-x}x^{\\alpha-1}, \\alpha > 0$"
   ]
  },
  {
   "cell_type": "code",
   "execution_count": 14,
   "metadata": {},
   "outputs": [],
   "source": [
    "def gama_dist_func(x, alpha, beta):\n",
    "    return np.where(x < 0, 0, (1 / (gamma(alpha) * (beta ** alpha))) * (x ** (alpha-1)) * np.exp(-(x/beta)) )"
   ]
  },
  {
   "cell_type": "code",
   "execution_count": 15,
   "metadata": {},
   "outputs": [
    {
     "name": "stdout",
     "output_type": "stream",
     "text": [
      "0.03790816623203959\n"
     ]
    }
   ],
   "source": [
    "a = 2\n",
    "b = 8\n",
    "x = 4\n",
    "print( gama_dist_func(x, a, b) )"
   ]
  },
  {
   "cell_type": "code",
   "execution_count": 16,
   "metadata": {},
   "outputs": [
    {
     "name": "stdout",
     "output_type": "stream",
     "text": [
      "[ 0.          0.          0.01378901  0.02433752  0.03221668  0.03790817\n",
      "  0.0418173   0.04428436  0.04559428  0.04598493  0.04565425  0.04476637\n",
      "  0.04345681  0.04183691  0.03999768  0.03801305  0.03594257  0.03383382\n",
      "  0.03172438  0.02964353  0.02761368  0.02565156  0.0237693   0.0219752\n",
      "  0.02027455  0.01867015  0.01716286  0.01575202  0.01443577  0.01321136\n",
      "  0.01207537  0.01102394  0.01005288  0.00915782  0.0083343   0.00757787\n",
      "  0.00688414  0.00624881  0.00566774  0.00513694  0.00465264  0.00421122\n",
      "  0.0038093   0.00344368  0.0031114   0.00280966  0.00253586  0.00228762\n",
      "  0.00206271  0.00185906  0.0016748 ]\n"
     ]
    },
    {
     "data": {
      "image/png": "[encoded data removed]",
      "text/plain": [
       "<matplotlib.figure.Figure at 0x7f5d32df84e0>"
      ]
     },
     "metadata": {},
     "output_type": "display_data"
    }
   ],
   "source": [
    "a = 2\n",
    "b = 8\n",
    "x = np.arange(-1, 50)\n",
    "gama_res = gama_dist_func(x, a, b)\n",
    "print( gama_res )\n",
    "\n",
    "# grafico\n",
    "plt.plot(x, gama_res)\n",
    "plt.ylabel('gama(x)')\n",
    "plt.show()"
   ]
  },
  {
   "cell_type": "markdown",
   "metadata": {},
   "source": [
    "## 6. Distribuição Qui-Quadrado $\\left(\\chi^2\\right)$ \n",
    "\n",
    "$\\chi^2\\left(\\nu\\right) = f\\left(x, \\nu\\right) = \\begin{cases}\n",
    "                                                 \\frac{1}{\\Gamma\\left(\\nu/2\\right)2^{\\nu/2}}x^{\\nu/2-1}e^{-x/2}, & \\text{se $x \\geq 0$} \\\\\n",
    "                                                 0, & \\text{se $x < 0$}\n",
    "                                                 \\end{cases}$, $\\nu > 0$"
   ]
  },
  {
   "cell_type": "code",
   "execution_count": 17,
   "metadata": {},
   "outputs": [],
   "source": [
    "def qui_dist_func(x, v):\n",
    "    return np.where(x < 0, 0, (1 / (gamma(v/2) * (2 ** (v/2)))) * (x ** ((v/2)-1)) * np.exp(-x/2) )"
   ]
  },
  {
   "cell_type": "code",
   "execution_count": 18,
   "metadata": {},
   "outputs": [
    {
     "name": "stdout",
     "output_type": "stream",
     "text": [
      "0.15418032980376925\n"
     ]
    }
   ],
   "source": [
    "v = 5\n",
    "x = 3\n",
    "print( qui_dist_func(x, v) )"
   ]
  },
  {
   "cell_type": "code",
   "execution_count": 19,
   "metadata": {},
   "outputs": [
    {
     "name": "stdout",
     "output_type": "stream",
     "text": [
      "[  0.00000000e+00   3.66159408e-02   8.06569082e-02   1.15399742e-01\n",
      "   1.38369166e-01   1.50601994e-01   1.54180330e-01   1.51312753e-01\n",
      "   1.43975911e-01   1.33796575e-01   1.22041521e-01   1.09653632e-01\n",
      "   9.73043467e-02   8.54479760e-02   7.43712677e-02   6.42356908e-02\n",
      "   5.51119609e-02   4.70073373e-02   3.98866357e-02   3.36880156e-02\n",
      "   2.83345553e-02   2.37425155e-02   1.98270540e-02   1.65060175e-02\n",
      "   1.37023100e-02   1.13452304e-02   9.37108133e-03   7.72327877e-03\n",
      "   6.35213166e-03   5.21441774e-03   4.27284447e-03   3.49545829e-03\n",
      "   2.85504482e-03   2.32854831e-03   1.89652729e-03   1.54265627e-03\n",
      "   1.25327747e-03   1.01700350e-03   8.24368967e-04   6.67528065e-04\n",
      "   5.39994064e-04   4.36416501e-04   3.52391718e-04   2.84302593e-04\n",
      "   2.29183597e-04   1.84607639e-04   1.48591519e-04   1.19517209e-04\n",
      "   9.60664829e-05   7.71668077e-05   6.19466464e-05   4.96986323e-05\n",
      "   3.98492882e-05   3.19341776e-05   2.55775505e-05   2.04756985e-05\n",
      "   1.63833652e-05   1.31026679e-05   1.04740784e-05   8.36908978e-06]\n"
     ]
    },
    {
     "data": {
      "image/png": "[encoded data removed]",
      "text/plain": [
       "<matplotlib.figure.Figure at 0x7f5d32d5e668>"
      ]
     },
     "metadata": {},
     "output_type": "display_data"
    }
   ],
   "source": [
    "v = 5\n",
    "x = np.arange(0, 30, 0.5)\n",
    "qui_dist_res = qui_dist_func(x, v)\n",
    "print( qui_dist_res )\n",
    "\n",
    "# grafico\n",
    "plt.plot(x, qui_dist_res)\n",
    "plt.ylabel('qui(x)')\n",
    "plt.show()"
   ]
  },
  {
   "cell_type": "markdown",
   "metadata": {},
   "source": [
    "## 7. Distribuição t de Student\n",
    "\n",
    "$f\\left(t, \\nu\\right) = \\frac{\\Gamma\\left[\\left(\\nu+1\\right)/2\\right]}{\\Gamma\\left(\\nu/2\\right)\\sqrt{\\pi\\nu}}\\left(1+t^2/\\nu\\right)^{-(\\nu+1)/2}$, $-\\infty \\leq t \\leq \\infty$"
   ]
  },
  {
   "cell_type": "code",
   "execution_count": 20,
   "metadata": {},
   "outputs": [],
   "source": [
    "def t_dist_func(t, v):\n",
    "    return (gamma((v+1)/2) / (gamma(v/2) * np.sqrt(np.pi * v))) * \\\n",
    "           ((1 + ((t ** 2)/v)) ** (-(v+1)/2))"
   ]
  },
  {
   "cell_type": "code",
   "execution_count": 21,
   "metadata": {},
   "outputs": [
    {
     "data": {
      "text/plain": [
       "0.017292578800222964"
      ]
     },
     "execution_count": 21,
     "metadata": {},
     "output_type": "execute_result"
    }
   ],
   "source": [
    "v = 5\n",
    "t = 3\n",
    "t_dist_func(t, v)"
   ]
  },
  {
   "cell_type": "code",
   "execution_count": 22,
   "metadata": {},
   "outputs": [
    {
     "name": "stdout",
     "output_type": "stream",
     "text": [
      "[ 0.00512373  0.00574837  0.00645885  0.00726802  0.00819077  0.00924435\n",
      "  0.01044871  0.01182693  0.01340568  0.01521575  0.01729258  0.01967694\n",
      "  0.02241552  0.02556161  0.02917574  0.03332624  0.03808966  0.04355096\n",
      "  0.04980335  0.05694754  0.06509031  0.07434203  0.08481296  0.09660795\n",
      "  0.10981925  0.12451734  0.14073955  0.15847674  0.17765861  0.19813859\n",
      "  0.2196798   0.24194434  0.26448836  0.28676546  0.30814101  0.32791853\n",
      "  0.34537808  0.35982433  0.37063998  0.37733813  0.37960669  0.37733813\n",
      "  0.37063998  0.35982433  0.34537808  0.32791853  0.30814101  0.28676546\n",
      "  0.26448836  0.24194434  0.2196798   0.19813859  0.17765861  0.15847674\n",
      "  0.14073955  0.12451734  0.10981925  0.09660795  0.08481296  0.07434203\n",
      "  0.06509031  0.05694754  0.04980335  0.04355096  0.03808966  0.03332624\n",
      "  0.02917574  0.02556161  0.02241552  0.01967694  0.01729258  0.01521575\n",
      "  0.01340568  0.01182693  0.01044871  0.00924435  0.00819077  0.00726802\n",
      "  0.00645885  0.00574837  0.00512373]\n"
     ]
    },
    {
     "data": {
      "image/png": "[encoded data removed]",
      "text/plain": [
       "<matplotlib.figure.Figure at 0x7f5d32db3710>"
      ]
     },
     "metadata": {},
     "output_type": "display_data"
    }
   ],
   "source": [
    "v = 5\n",
    "t = np.arange(-4, 4.1, 0.1)\n",
    "t_res = t_dist_func(t, v)\n",
    "print( t_res )\n",
    "\n",
    "# grafico\n",
    "plt.plot(t, t_res)\n",
    "plt.ylabel('t(v)')\n",
    "plt.show()"
   ]
  },
  {
   "cell_type": "markdown",
   "metadata": {},
   "source": [
    "## 8. Distribuição F de Snedecor\n",
    "\n",
    "$g\\left(w, \\nu_1, \\nu_2\\right) = \\frac{\\Gamma\\left[\\left(\\nu_1+\\nu_2\\right)/2\\right]}{\\Gamma\\left(\\nu_1/2\\right)\\Gamma\\left(\\nu_2/2\\right)}\\left(\\frac{\\nu_1}{\\nu_2}\\right)^{\\nu_1/2}\\frac{w^{\\left(\\nu_1-2\\right)/2}}{\\left(1 + (\\nu_1 w/\\nu_2)\\right)^{\\left(\\nu_1+\\nu_2\\right)/2}}, w > 0$"
   ]
  },
  {
   "cell_type": "code",
   "execution_count": 23,
   "metadata": {},
   "outputs": [],
   "source": [
    "def f_dist_func(w, v1, v2):\n",
    "    return (gamma((v1+v2)/2) / (gamma(v1/2) * gamma(v2/2))) * \\\n",
    "           ((v1/v2) ** (v1/2)) * \\\n",
    "           ((w ** ((v1-2)/2)) / ((1+(v1*w/v2)) ** ((v1+v2)/2)))"
   ]
  },
  {
   "cell_type": "code",
   "execution_count": 24,
   "metadata": {},
   "outputs": [
    {
     "data": {
      "text/plain": [
       "0.03443501903067734"
      ]
     },
     "execution_count": 24,
     "metadata": {},
     "output_type": "execute_result"
    }
   ],
   "source": [
    "v1 = 6\n",
    "v2 = 5\n",
    "w = 4\n",
    "f_dist_func(w, v1, v2)"
   ]
  },
  {
   "cell_type": "code",
   "execution_count": 25,
   "metadata": {},
   "outputs": [
    {
     "name": "stdout",
     "output_type": "stream",
     "text": [
      "[ 0.          0.18240435  0.41684542  0.5643036   0.6301078   0.64123086\n",
      "  0.62034081  0.58268302  0.53765773  0.49076207  0.44505078  0.40210156\n",
      "  0.36262084  0.32681442  0.29461104  0.26579552  0.24008697  0.21718381\n",
      "  0.19678879  0.17862217  0.16242776  0.14797497  0.13505854  0.12349712\n",
      "  0.11313118  0.1038208   0.09544349  0.08789206  0.08107271  0.07490335\n",
      "  0.06931205  0.06423574  0.05961901  0.05541317  0.0515753   0.04806755\n",
      "  0.04485649  0.04191252  0.0392094   0.03672381  0.03443502  0.03232456\n",
      "  0.03037594  0.02857441  0.02690677  0.02536118  0.023927    0.02259465\n",
      "  0.02135551  0.0202018   0.01912648  0.01812319  0.01718616  0.01631015\n",
      "  0.01549041  0.01472261  0.01400281  0.01332741  0.01269312  0.01209695\n",
      "  0.01153614  0.01100818  0.01051076  0.01004176  0.00959922  0.00918135\n",
      "  0.00878649  0.00841313  0.00805985  0.00772536  0.00740845  0.00710801\n",
      "  0.006823    0.00655248  0.00629556  0.00605141  0.00581927  0.00559843\n",
      "  0.00538821  0.00518802  0.00499726  0.00481541  0.00464196  0.00447644\n",
      "  0.00431841  0.00416748  0.00402324  0.00388535  0.00375346  0.00362726\n",
      "  0.00350646  0.00339076  0.00327993  0.0031737   0.00307184  0.00297415\n",
      "  0.0028804   0.00279042  0.00270401  0.002621  ]\n"
     ]
    },
    {
     "data": {
      "image/png": "[encoded data removed]",
      "text/plain": [
       "<matplotlib.figure.Figure at 0x7f5d32d2f908>"
      ]
     },
     "metadata": {},
     "output_type": "display_data"
    }
   ],
   "source": [
    "v1 = 6\n",
    "v2 = 5\n",
    "w = np.arange(0, 10, 0.1)\n",
    "f_dist_res = f_dist_func(w, v1, v2)\n",
    "print(f_dist_res)\n",
    "\n",
    "# grafico\n",
    "plt.plot(w, f_dist_res)\n",
    "plt.ylabel('F(w)')\n",
    "plt.show()"
   ]
  }
 ],
 "metadata": {
  "kernelspec": {
   "display_name": "Python 3",
   "language": "python",
   "name": "python3"
  },
  "language_info": {
   "codemirror_mode": {
    "name": "ipython",
    "version": 3
   },
   "file_extension": ".py",
   "mimetype": "text/x-python",
   "name": "python",
   "nbconvert_exporter": "python",
   "pygments_lexer": "ipython3",
   "version": "3.5.4"
  }
 },
 "nbformat": 4,
 "nbformat_minor": 2
}
