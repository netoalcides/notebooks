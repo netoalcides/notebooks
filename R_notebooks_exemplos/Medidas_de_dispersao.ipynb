{
 "cells": [
  {
   "cell_type": "markdown",
   "metadata": {},
   "source": [
    "# Medidas de dispersão\n",
    "\n",
    "* Amplitude\n",
    "* Variância\n",
    "* Desvio Padrão"
   ]
  },
  {
   "cell_type": "markdown",
   "metadata": {},
   "source": [
    "## Amplitude\n",
    "\n",
    "A amplitude representa a diferença entre o maior e o menor valor em um conjunto de elementos"
   ]
  },
  {
   "cell_type": "code",
   "execution_count": 3,
   "metadata": {
    "collapsed": false
   },
   "outputs": [
    {
     "name": "stdout",
     "output_type": "stream",
     "text": [
      "[1] \"A menor idade é: 15\"\n",
      "[1] \"A maior idade é: 55\"\n",
      "[1] \"A amplitude é: 40\"\n"
     ]
    }
   ],
   "source": [
    "# Exemplo\n",
    "\n",
    "idades <- c(31, 15, 20, 25, 36, 55, 38, 55, 18, 43, 27)\n",
    "\n",
    "print( paste( \"A menor idade é:\", min(idades) ) )\n",
    "print( paste( \"A maior idade é:\", max(idades) ) )\n",
    "print( paste( \"A amplitude é:\", max(idades) - min(idades) ) )"
   ]
  },
  {
   "cell_type": "markdown",
   "metadata": {},
   "source": [
    "## Variância\n",
    "\n",
    "A variância mede a dispersão em torno do valor esperado, mas não preserva a escala dos valores. \n",
    "\n",
    "A fórmula é dada por: $s^2 = \\frac{1}{n - 1}\\sum^{n}_{i=1}\\left( x_i - \\bar{x}\\right)^2$"
   ]
  },
  {
   "cell_type": "code",
   "execution_count": 4,
   "metadata": {
    "collapsed": false
   },
   "outputs": [
    {
     "name": "stdout",
     "output_type": "stream",
     "text": [
      "[1] \"A variância das idades é: 192.4\"\n"
     ]
    }
   ],
   "source": [
    "# Exemplo\n",
    "\n",
    "print( paste( \"A variância das idades é:\", var(idades) ) )"
   ]
  },
  {
   "cell_type": "markdown",
   "metadata": {},
   "source": [
    "## Desvio Padrão\n",
    "\n",
    "O desvio padrão mede a dispersão em torno do valor esperado e preserva a escala dos valores. \n",
    "\n",
    "A fórmula é dada por: $s = \\sqrt{s^2}$, nada mais de que a raiz quadrada da variância ($s^2$)\n"
   ]
  },
  {
   "cell_type": "code",
   "execution_count": 5,
   "metadata": {
    "collapsed": false
   },
   "outputs": [
    {
     "name": "stdout",
     "output_type": "stream",
     "text": [
      "[1] \"O desvio padrão idades é: 13.8708327075198\"\n"
     ]
    }
   ],
   "source": [
    "# Exemplo\n",
    "\n",
    "print( paste( \"O desvio padrão das idades é:\", sd(idades) ) )"
   ]
  }
 ],
 "metadata": {
  "kernelspec": {
   "display_name": "R",
   "language": "R",
   "name": "ir"
  },
  "language_info": {
   "codemirror_mode": "r",
   "file_extension": ".r",
   "mimetype": "text/x-r-source",
   "name": "R",
   "pygments_lexer": "r",
   "version": "3.3.2"
  }
 },
 "nbformat": 4,
 "nbformat_minor": 2
}
