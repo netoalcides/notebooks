{
 "cells": [
  {
   "cell_type": "markdown",
   "metadata": {},
   "source": [
    "# Sumarização\n",
    "\n",
    "Será utilizado como exemplo ações do mercado financeiro"
   ]
  },
  {
   "cell_type": "markdown",
   "metadata": {},
   "source": [
    "## Pacotes"
   ]
  },
  {
   "cell_type": "code",
   "execution_count": 1,
   "metadata": {
    "collapsed": false
   },
   "outputs": [
    {
     "name": "stderr",
     "output_type": "stream",
     "text": [
      "Loading required package: xts\n",
      "Loading required package: zoo\n",
      "\n",
      "Attaching package: ‘zoo’\n",
      "\n",
      "The following objects are masked from ‘package:base’:\n",
      "\n",
      "    as.Date, as.Date.numeric\n",
      "\n",
      "Loading required package: TTR\n",
      "Version 0.4-0 included new data defaults. See ?getSymbols.\n",
      "Loading required package: bitops\n",
      "\n",
      "Attaching package: ‘tidyr’\n",
      "\n",
      "The following object is masked from ‘package:RCurl’:\n",
      "\n",
      "    complete\n",
      "\n",
      "\n",
      "Attaching package: ‘dplyr’\n",
      "\n",
      "The following objects are masked from ‘package:xts’:\n",
      "\n",
      "    first, last\n",
      "\n",
      "The following objects are masked from ‘package:stats’:\n",
      "\n",
      "    filter, lag\n",
      "\n",
      "The following objects are masked from ‘package:base’:\n",
      "\n",
      "    intersect, setdiff, setequal, union\n",
      "\n",
      "\n",
      "Attaching package: ‘magrittr’\n",
      "\n",
      "The following object is masked from ‘package:tidyr’:\n",
      "\n",
      "    extract\n",
      "\n"
     ]
    }
   ],
   "source": [
    "library(quantmod)\n",
    "library(RCurl)\n",
    "library(tidyr)\n",
    "library(dplyr)\n",
    "library(magrittr)\n",
    "library(ggplot2)"
   ]
  },
  {
   "cell_type": "markdown",
   "metadata": {},
   "source": [
    "## Obtenção dos dados"
   ]
  },
  {
   "cell_type": "markdown",
   "metadata": {},
   "source": [
    "### Fonte"
   ]
  },
  {
   "cell_type": "code",
   "execution_count": 2,
   "metadata": {
    "collapsed": true
   },
   "outputs": [],
   "source": [
    "sit <- getURLContent('https://github.com/systematicinvestor/SIT/raw/master/sit.gz', binary=TRUE, followlocation = TRUE, ssl.verifypeer = FALSE)\n",
    "con <- gzcon(rawConnection(sit, 'rb'))\n",
    "source(con)\n",
    "close(con)"
   ]
  },
  {
   "cell_type": "markdown",
   "metadata": {},
   "source": [
    "### Busca os dados"
   ]
  },
  {
   "cell_type": "code",
   "execution_count": 5,
   "metadata": {
    "collapsed": false
   },
   "outputs": [
    {
     "name": "stderr",
     "output_type": "stream",
     "text": [
      "pausing 1 second between requests for more than 5 symbols\n",
      "pausing 1 second between requests for more than 5 symbols\n",
      "pausing 1 second between requests for more than 5 symbols\n",
      "pausing 1 second between requests for more than 5 symbols\n",
      "pausing 1 second between requests for more than 5 symbols\n"
     ]
    },
    {
     "data": {
      "text/html": [
       "<ol class=list-inline>\n",
       "\t<li>'BVSP'</li>\n",
       "\t<li>'PETR4.SA'</li>\n",
       "\t<li>'VALE5.SA'</li>\n",
       "\t<li>'USIM5.SA'</li>\n",
       "\t<li>'ABEV3.SA'</li>\n",
       "\t<li>'ITUB4.SA'</li>\n",
       "\t<li>'BBDC4.SA'</li>\n",
       "\t<li>'JBSS3.SA'</li>\n",
       "\t<li>'GOLL4.SA'</li>\n",
       "</ol>\n"
      ],
      "text/latex": [
       "\\begin{enumerate*}\n",
       "\\item 'BVSP'\n",
       "\\item 'PETR4.SA'\n",
       "\\item 'VALE5.SA'\n",
       "\\item 'USIM5.SA'\n",
       "\\item 'ABEV3.SA'\n",
       "\\item 'ITUB4.SA'\n",
       "\\item 'BBDC4.SA'\n",
       "\\item 'JBSS3.SA'\n",
       "\\item 'GOLL4.SA'\n",
       "\\end{enumerate*}\n"
      ],
      "text/markdown": [
       "1. 'BVSP'\n",
       "2. 'PETR4.SA'\n",
       "3. 'VALE5.SA'\n",
       "4. 'USIM5.SA'\n",
       "5. 'ABEV3.SA'\n",
       "6. 'ITUB4.SA'\n",
       "7. 'BBDC4.SA'\n",
       "8. 'JBSS3.SA'\n",
       "9. 'GOLL4.SA'\n",
       "\n",
       "\n"
      ],
      "text/plain": [
       "[1] \"BVSP\"     \"PETR4.SA\" \"VALE5.SA\" \"USIM5.SA\" \"ABEV3.SA\" \"ITUB4.SA\" \"BBDC4.SA\"\n",
       "[8] \"JBSS3.SA\" \"GOLL4.SA\""
      ]
     },
     "metadata": {},
     "output_type": "display_data"
    }
   ],
   "source": [
    "tickers <- spl('^BVSP,PETR4.SA,VALE5.SA,USIM5.SA,ABEV3.SA,ITUB4.SA,BBDC4.SA,JBSS3.SA,GOLL4.SA')\n",
    "\n",
    "dados <- new.env()\n",
    "options( download.file.method=\"libcurl\" )\n",
    "getSymbols(tickers, src = 'yahoo', from = '2017-01-01', env = dados, auto.assign = T)"
   ]
  },
  {
   "cell_type": "markdown",
   "metadata": {
    "collapsed": false
   },
   "source": [
    "### Ajusta os dados"
   ]
  },
  {
   "cell_type": "code",
   "execution_count": 6,
   "metadata": {
    "collapsed": false
   },
   "outputs": [],
   "source": [
    "# Somente os precos\n",
    "for(i in ls(dados)) dados[[i]] = adjustOHLC(dados[[i]], use.Adjusted=T)                            \n",
    "bt.prep(dados, align = 'remove.na')"
   ]
  },
  {
   "cell_type": "markdown",
   "metadata": {},
   "source": [
    "### Obtem somente os preços"
   ]
  },
  {
   "cell_type": "code",
   "execution_count": 7,
   "metadata": {
    "collapsed": false,
    "scrolled": true
   },
   "outputs": [
    {
     "data": {
      "text/html": [
       "<table>\n",
       "<thead><tr><th></th><th scope=col>data</th><th scope=col>ABEV3.SA</th><th scope=col>BBDC4.SA</th><th scope=col>BVSP</th><th scope=col>GOLL4.SA</th><th scope=col>ITUB4.SA</th><th scope=col>JBSS3.SA</th><th scope=col>PETR4.SA</th><th scope=col>USIM5.SA</th><th scope=col>VALE5.SA</th></tr></thead>\n",
       "<tbody>\n",
       "\t<tr><th scope=row>2017-01-02</th><td>2017-01-02</td><td>16.24416  </td><td>26.0969   </td><td>59589     </td><td>4.51      </td><td>32.84536  </td><td>11.30     </td><td>14.66     </td><td>4.08      </td><td>22.07962  </td></tr>\n",
       "\t<tr><th scope=row>2017-01-03</th><td>2017-01-03</td><td>16.57283  </td><td>27.2039   </td><td>61814     </td><td>4.88      </td><td>34.23636  </td><td>11.45     </td><td>15.50     </td><td>4.29      </td><td>23.29714  </td></tr>\n",
       "\t<tr><th scope=row>2017-01-04</th><td>2017-01-04</td><td>16.44335  </td><td>27.0317   </td><td>61589     </td><td>5.17      </td><td>34.38330  </td><td>11.45     </td><td>15.50     </td><td>4.55      </td><td>22.85265  </td></tr>\n",
       "\t<tr><th scope=row>2017-01-05</th><td>2017-01-05</td><td>16.53299  </td><td>27.3309   </td><td>62071     </td><td>5.23      </td><td>34.85350  </td><td>11.42     </td><td>15.75     </td><td>4.60      </td><td>23.91557  </td></tr>\n",
       "\t<tr><th scope=row>2017-01-06</th><td>2017-01-06</td><td>16.39355  </td><td>27.5032   </td><td>61665     </td><td>5.15      </td><td>34.97105  </td><td>11.50     </td><td>15.66     </td><td>4.47      </td><td>23.29714  </td></tr>\n",
       "\t<tr><th scope=row>2017-01-09</th><td>2017-01-09</td><td>16.46327  </td><td>27.5395   </td><td>61700     </td><td>5.23      </td><td>35.13758  </td><td>11.60     </td><td>15.33     </td><td>4.50      </td><td>23.78995  </td></tr>\n",
       "</tbody>\n",
       "</table>\n"
      ],
      "text/latex": [
       "\\begin{tabular}{r|llllllllll}\n",
       "  & data & ABEV3.SA & BBDC4.SA & BVSP & GOLL4.SA & ITUB4.SA & JBSS3.SA & PETR4.SA & USIM5.SA & VALE5.SA\\\\\n",
       "\\hline\n",
       "\t2017-01-02 & 2017-01-02 & 16.24416   & 26.0969    & 59589      & 4.51       & 32.84536   & 11.30      & 14.66      & 4.08       & 22.07962  \\\\\n",
       "\t2017-01-03 & 2017-01-03 & 16.57283   & 27.2039    & 61814      & 4.88       & 34.23636   & 11.45      & 15.50      & 4.29       & 23.29714  \\\\\n",
       "\t2017-01-04 & 2017-01-04 & 16.44335   & 27.0317    & 61589      & 5.17       & 34.38330   & 11.45      & 15.50      & 4.55       & 22.85265  \\\\\n",
       "\t2017-01-05 & 2017-01-05 & 16.53299   & 27.3309    & 62071      & 5.23       & 34.85350   & 11.42      & 15.75      & 4.60       & 23.91557  \\\\\n",
       "\t2017-01-06 & 2017-01-06 & 16.39355   & 27.5032    & 61665      & 5.15       & 34.97105   & 11.50      & 15.66      & 4.47       & 23.29714  \\\\\n",
       "\t2017-01-09 & 2017-01-09 & 16.46327   & 27.5395    & 61700      & 5.23       & 35.13758   & 11.60      & 15.33      & 4.50       & 23.78995  \\\\\n",
       "\\end{tabular}\n"
      ],
      "text/markdown": [
       "\n",
       "| <!--/--> | data | ABEV3.SA | BBDC4.SA | BVSP | GOLL4.SA | ITUB4.SA | JBSS3.SA | PETR4.SA | USIM5.SA | VALE5.SA | \n",
       "|---|---|---|---|---|---|\n",
       "| 2017-01-02 | 2017-01-02 | 16.24416   | 26.0969    | 59589      | 4.51       | 32.84536   | 11.30      | 14.66      | 4.08       | 22.07962   | \n",
       "| 2017-01-03 | 2017-01-03 | 16.57283   | 27.2039    | 61814      | 4.88       | 34.23636   | 11.45      | 15.50      | 4.29       | 23.29714   | \n",
       "| 2017-01-04 | 2017-01-04 | 16.44335   | 27.0317    | 61589      | 5.17       | 34.38330   | 11.45      | 15.50      | 4.55       | 22.85265   | \n",
       "| 2017-01-05 | 2017-01-05 | 16.53299   | 27.3309    | 62071      | 5.23       | 34.85350   | 11.42      | 15.75      | 4.60       | 23.91557   | \n",
       "| 2017-01-06 | 2017-01-06 | 16.39355   | 27.5032    | 61665      | 5.15       | 34.97105   | 11.50      | 15.66      | 4.47       | 23.29714   | \n",
       "| 2017-01-09 | 2017-01-09 | 16.46327   | 27.5395    | 61700      | 5.23       | 35.13758   | 11.60      | 15.33      | 4.50       | 23.78995   | \n",
       "\n",
       "\n"
      ],
      "text/plain": [
       "           data       ABEV3.SA BBDC4.SA BVSP  GOLL4.SA ITUB4.SA JBSS3.SA\n",
       "2017-01-02 2017-01-02 16.24416 26.0969  59589 4.51     32.84536 11.30   \n",
       "2017-01-03 2017-01-03 16.57283 27.2039  61814 4.88     34.23636 11.45   \n",
       "2017-01-04 2017-01-04 16.44335 27.0317  61589 5.17     34.38330 11.45   \n",
       "2017-01-05 2017-01-05 16.53299 27.3309  62071 5.23     34.85350 11.42   \n",
       "2017-01-06 2017-01-06 16.39355 27.5032  61665 5.15     34.97105 11.50   \n",
       "2017-01-09 2017-01-09 16.46327 27.5395  61700 5.23     35.13758 11.60   \n",
       "           PETR4.SA USIM5.SA VALE5.SA\n",
       "2017-01-02 14.66    4.08     22.07962\n",
       "2017-01-03 15.50    4.29     23.29714\n",
       "2017-01-04 15.50    4.55     22.85265\n",
       "2017-01-05 15.75    4.60     23.91557\n",
       "2017-01-06 15.66    4.47     23.29714\n",
       "2017-01-09 15.33    4.50     23.78995"
      ]
     },
     "metadata": {},
     "output_type": "display_data"
    }
   ],
   "source": [
    "dados_precos <- dados$prices\n",
    "dados_precos <- data.frame(data = index(dados_precos), dados_precos)\n",
    "head(dados_precos)"
   ]
  },
  {
   "cell_type": "markdown",
   "metadata": {},
   "source": [
    "### Obtem as variações"
   ]
  },
  {
   "cell_type": "code",
   "execution_count": 8,
   "metadata": {
    "collapsed": false,
    "scrolled": false
   },
   "outputs": [
    {
     "data": {
      "text/html": [
       "<table>\n",
       "<thead><tr><th scope=col>data</th><th scope=col>var_ABEV3.SA</th><th scope=col>var_BBDC4.SA</th><th scope=col>var_BVSP</th><th scope=col>var_GOLL4.SA</th><th scope=col>var_ITUB4.SA</th><th scope=col>var_JBSS3.SA</th><th scope=col>var_PETR4.SA</th><th scope=col>var_USIM5.SA</th><th scope=col>var_VALE5.SA</th></tr></thead>\n",
       "<tbody>\n",
       "\t<tr><td>2017-01-02   </td><td>16.244160000 </td><td>26.096900000 </td><td> 5.958900e+04</td><td> 4.51000000  </td><td>32.845360000 </td><td>11.300000000 </td><td>14.660000000 </td><td> 4.080000000 </td><td>22.07962000  </td></tr>\n",
       "\t<tr><td>2017-01-03   </td><td> 0.020031148 </td><td> 0.041543812 </td><td> 3.665888e-02</td><td> 0.07884807  </td><td> 0.041477750 </td><td> 0.013187004 </td><td> 0.055717327 </td><td> 0.050189745 </td><td> 0.05367560  </td></tr>\n",
       "\t<tr><td>2017-01-04   </td><td>-0.007843467 </td><td>-0.006350094 </td><td>-3.646593e-03</td><td> 0.05772747  </td><td> 0.004282744 </td><td> 0.000000000 </td><td> 0.000000000 </td><td> 0.058840500 </td><td>-0.01926352  </td></tr>\n",
       "\t<tr><td>2017-01-05   </td><td> 0.005436639 </td><td> 0.011007679 </td><td> 7.795608e-03</td><td> 0.01153859  </td><td> 0.013582581 </td><td>-0.002623526 </td><td> 0.016000341 </td><td> 0.010929071 </td><td> 0.04546263  </td></tr>\n",
       "\t<tr><td>2017-01-06   </td><td>-0.008469814 </td><td> 0.006284431 </td><td>-6.562382e-03</td><td>-0.01541456  </td><td> 0.003367014 </td><td> 0.006980831 </td><td>-0.005730675 </td><td>-0.028667895 </td><td>-0.02619911  </td></tr>\n",
       "\t<tr><td>2017-01-09   </td><td> 0.004243874 </td><td> 0.001318976 </td><td> 5.674219e-04</td><td> 0.01541456  </td><td> 0.004750637 </td><td> 0.008658063 </td><td>-0.021297998 </td><td> 0.006688988 </td><td> 0.02093262  </td></tr>\n",
       "</tbody>\n",
       "</table>\n"
      ],
      "text/latex": [
       "\\begin{tabular}{r|llllllllll}\n",
       " data & var\\_ABEV3.SA & var\\_BBDC4.SA & var\\_BVSP & var\\_GOLL4.SA & var\\_ITUB4.SA & var\\_JBSS3.SA & var\\_PETR4.SA & var\\_USIM5.SA & var\\_VALE5.SA\\\\\n",
       "\\hline\n",
       "\t 2017-01-02    & 16.244160000  & 26.096900000  &  5.958900e+04 &  4.51000000   & 32.845360000  & 11.300000000  & 14.660000000  &  4.080000000  & 22.07962000  \\\\\n",
       "\t 2017-01-03    &  0.020031148  &  0.041543812  &  3.665888e-02 &  0.07884807   &  0.041477750  &  0.013187004  &  0.055717327  &  0.050189745  &  0.05367560  \\\\\n",
       "\t 2017-01-04    & -0.007843467  & -0.006350094  & -3.646593e-03 &  0.05772747   &  0.004282744  &  0.000000000  &  0.000000000  &  0.058840500  & -0.01926352  \\\\\n",
       "\t 2017-01-05    &  0.005436639  &  0.011007679  &  7.795608e-03 &  0.01153859   &  0.013582581  & -0.002623526  &  0.016000341  &  0.010929071  &  0.04546263  \\\\\n",
       "\t 2017-01-06    & -0.008469814  &  0.006284431  & -6.562382e-03 & -0.01541456   &  0.003367014  &  0.006980831  & -0.005730675  & -0.028667895  & -0.02619911  \\\\\n",
       "\t 2017-01-09    &  0.004243874  &  0.001318976  &  5.674219e-04 &  0.01541456   &  0.004750637  &  0.008658063  & -0.021297998  &  0.006688988  &  0.02093262  \\\\\n",
       "\\end{tabular}\n"
      ],
      "text/markdown": [
       "\n",
       "data | var_ABEV3.SA | var_BBDC4.SA | var_BVSP | var_GOLL4.SA | var_ITUB4.SA | var_JBSS3.SA | var_PETR4.SA | var_USIM5.SA | var_VALE5.SA | \n",
       "|---|---|---|---|---|---|\n",
       "| 2017-01-02    | 16.244160000  | 26.096900000  |  5.958900e+04 |  4.51000000   | 32.845360000  | 11.300000000  | 14.660000000  |  4.080000000  | 22.07962000   | \n",
       "| 2017-01-03    |  0.020031148  |  0.041543812  |  3.665888e-02 |  0.07884807   |  0.041477750  |  0.013187004  |  0.055717327  |  0.050189745  |  0.05367560   | \n",
       "| 2017-01-04    | -0.007843467  | -0.006350094  | -3.646593e-03 |  0.05772747   |  0.004282744  |  0.000000000  |  0.000000000  |  0.058840500  | -0.01926352   | \n",
       "| 2017-01-05    |  0.005436639  |  0.011007679  |  7.795608e-03 |  0.01153859   |  0.013582581  | -0.002623526  |  0.016000341  |  0.010929071  |  0.04546263   | \n",
       "| 2017-01-06    | -0.008469814  |  0.006284431  | -6.562382e-03 | -0.01541456   |  0.003367014  |  0.006980831  | -0.005730675  | -0.028667895  | -0.02619911   | \n",
       "| 2017-01-09    |  0.004243874  |  0.001318976  |  5.674219e-04 |  0.01541456   |  0.004750637  |  0.008658063  | -0.021297998  |  0.006688988  |  0.02093262   | \n",
       "\n",
       "\n"
      ],
      "text/plain": [
       "  data       var_ABEV3.SA var_BBDC4.SA var_BVSP      var_GOLL4.SA var_ITUB4.SA\n",
       "1 2017-01-02 16.244160000 26.096900000  5.958900e+04  4.51000000  32.845360000\n",
       "2 2017-01-03  0.020031148  0.041543812  3.665888e-02  0.07884807   0.041477750\n",
       "3 2017-01-04 -0.007843467 -0.006350094 -3.646593e-03  0.05772747   0.004282744\n",
       "4 2017-01-05  0.005436639  0.011007679  7.795608e-03  0.01153859   0.013582581\n",
       "5 2017-01-06 -0.008469814  0.006284431 -6.562382e-03 -0.01541456   0.003367014\n",
       "6 2017-01-09  0.004243874  0.001318976  5.674219e-04  0.01541456   0.004750637\n",
       "  var_JBSS3.SA var_PETR4.SA var_USIM5.SA var_VALE5.SA\n",
       "1 11.300000000 14.660000000  4.080000000 22.07962000 \n",
       "2  0.013187004  0.055717327  0.050189745  0.05367560 \n",
       "3  0.000000000  0.000000000  0.058840500 -0.01926352 \n",
       "4 -0.002623526  0.016000341  0.010929071  0.04546263 \n",
       "5  0.006980831 -0.005730675 -0.028667895 -0.02619911 \n",
       "6  0.008658063 -0.021297998  0.006688988  0.02093262 "
      ]
     },
     "metadata": {},
     "output_type": "display_data"
    }
   ],
   "source": [
    "diff <- dados_precos %>% \n",
    "            select(-data) %>% \n",
    "            mutate_each( funs(c(.[1], diff(log(zoo(.))))) )\n",
    "names(diff) <- paste0(\"var_\", names(diff) )\n",
    "diff <- data.frame( data = dados_precos$data, diff)\n",
    "head(diff)"
   ]
  },
  {
   "cell_type": "markdown",
   "metadata": {},
   "source": [
    "### Transforma tudo em data.frame"
   ]
  },
  {
   "cell_type": "code",
   "execution_count": 9,
   "metadata": {
    "collapsed": false
   },
   "outputs": [
    {
     "data": {
      "text/html": [
       "<table>\n",
       "<thead><tr><th scope=col>data</th><th scope=col>acao</th><th scope=col>preco</th><th scope=col>variacao</th></tr></thead>\n",
       "<tbody>\n",
       "\t<tr><td>2017-01-03  </td><td>ABEV3.SA    </td><td>16.57283    </td><td> 0.020031148</td></tr>\n",
       "\t<tr><td>2017-01-04  </td><td>ABEV3.SA    </td><td>16.44335    </td><td>-0.007843467</td></tr>\n",
       "\t<tr><td>2017-01-05  </td><td>ABEV3.SA    </td><td>16.53299    </td><td> 0.005436639</td></tr>\n",
       "\t<tr><td>2017-01-06  </td><td>ABEV3.SA    </td><td>16.39355    </td><td>-0.008469814</td></tr>\n",
       "\t<tr><td>2017-01-09  </td><td>ABEV3.SA    </td><td>16.46327    </td><td> 0.004243874</td></tr>\n",
       "\t<tr><td>2017-01-10  </td><td>ABEV3.SA    </td><td>16.27404    </td><td>-0.011560639</td></tr>\n",
       "</tbody>\n",
       "</table>\n"
      ],
      "text/latex": [
       "\\begin{tabular}{r|llll}\n",
       " data & acao & preco & variacao\\\\\n",
       "\\hline\n",
       "\t 2017-01-03   & ABEV3.SA     & 16.57283     &  0.020031148\\\\\n",
       "\t 2017-01-04   & ABEV3.SA     & 16.44335     & -0.007843467\\\\\n",
       "\t 2017-01-05   & ABEV3.SA     & 16.53299     &  0.005436639\\\\\n",
       "\t 2017-01-06   & ABEV3.SA     & 16.39355     & -0.008469814\\\\\n",
       "\t 2017-01-09   & ABEV3.SA     & 16.46327     &  0.004243874\\\\\n",
       "\t 2017-01-10   & ABEV3.SA     & 16.27404     & -0.011560639\\\\\n",
       "\\end{tabular}\n"
      ],
      "text/markdown": [
       "\n",
       "data | acao | preco | variacao | \n",
       "|---|---|---|---|---|---|\n",
       "| 2017-01-03   | ABEV3.SA     | 16.57283     |  0.020031148 | \n",
       "| 2017-01-04   | ABEV3.SA     | 16.44335     | -0.007843467 | \n",
       "| 2017-01-05   | ABEV3.SA     | 16.53299     |  0.005436639 | \n",
       "| 2017-01-06   | ABEV3.SA     | 16.39355     | -0.008469814 | \n",
       "| 2017-01-09   | ABEV3.SA     | 16.46327     |  0.004243874 | \n",
       "| 2017-01-10   | ABEV3.SA     | 16.27404     | -0.011560639 | \n",
       "\n",
       "\n"
      ],
      "text/plain": [
       "  data       acao     preco    variacao    \n",
       "1 2017-01-03 ABEV3.SA 16.57283  0.020031148\n",
       "2 2017-01-04 ABEV3.SA 16.44335 -0.007843467\n",
       "3 2017-01-05 ABEV3.SA 16.53299  0.005436639\n",
       "4 2017-01-06 ABEV3.SA 16.39355 -0.008469814\n",
       "5 2017-01-09 ABEV3.SA 16.46327  0.004243874\n",
       "6 2017-01-10 ABEV3.SA 16.27404 -0.011560639"
      ]
     },
     "metadata": {},
     "output_type": "display_data"
    }
   ],
   "source": [
    "dados_precos %<>%\n",
    "    filter( row_number() != 1 ) %>% \n",
    "    gather(acao, preco, -data)\n",
    "   \n",
    "diff %<>% \n",
    "    filter( row_number() != 1 ) %>% \n",
    "    gather(acao, preco, -data)\n",
    "\n",
    "dados_precos <- data.frame(dados_precos, variacao = diff$preco )\n",
    "\n",
    "head(dados_precos)\n"
   ]
  },
  {
   "cell_type": "markdown",
   "metadata": {},
   "source": [
    "## Sumarizar dados"
   ]
  },
  {
   "cell_type": "code",
   "execution_count": 10,
   "metadata": {
    "collapsed": false
   },
   "outputs": [
    {
     "data": {
      "text/html": [
       "<table>\n",
       "<thead><tr><th scope=col>acao</th><th scope=col>ultimo_preco</th><th scope=col>retorno</th><th scope=col>risco</th></tr></thead>\n",
       "<tbody>\n",
       "\t<tr><td>GOLL4.SA</td><td>   10.70</td><td> 1.0409 </td><td>3.7465  </td></tr>\n",
       "\t<tr><td>USIM5.SA</td><td>    4.18</td><td> 0.0292 </td><td>3.2687  </td></tr>\n",
       "\t<tr><td>VALE5.SA</td><td>   24.94</td><td> 0.1468 </td><td>3.2507  </td></tr>\n",
       "\t<tr><td>PETR4.SA</td><td>   14.21</td><td>-0.0376 </td><td>2.3066  </td></tr>\n",
       "\t<tr><td>BBDC4.SA</td><td>   30.73</td><td> 0.1969 </td><td>2.2730  </td></tr>\n",
       "\t<tr><td>JBSS3.SA</td><td>   10.70</td><td>-0.0657 </td><td>2.2033  </td></tr>\n",
       "\t<tr><td>ITUB4.SA</td><td>   38.70</td><td> 0.1976 </td><td>1.5362  </td></tr>\n",
       "\t<tr><td>ABEV3.SA</td><td>   18.90</td><td> 0.1824 </td><td>1.2206  </td></tr>\n",
       "\t<tr><td>BVSP    </td><td>65710.00</td><td> 0.1178 </td><td>1.2060  </td></tr>\n",
       "</tbody>\n",
       "</table>\n"
      ],
      "text/latex": [
       "\\begin{tabular}{r|llll}\n",
       " acao & ultimo\\_preco & retorno & risco\\\\\n",
       "\\hline\n",
       "\t GOLL4.SA &    10.70 &  1.0409  & 3.7465  \\\\\n",
       "\t USIM5.SA &     4.18 &  0.0292  & 3.2687  \\\\\n",
       "\t VALE5.SA &    24.94 &  0.1468  & 3.2507  \\\\\n",
       "\t PETR4.SA &    14.21 & -0.0376  & 2.3066  \\\\\n",
       "\t BBDC4.SA &    30.73 &  0.1969  & 2.2730  \\\\\n",
       "\t JBSS3.SA &    10.70 & -0.0657  & 2.2033  \\\\\n",
       "\t ITUB4.SA &    38.70 &  0.1976  & 1.5362  \\\\\n",
       "\t ABEV3.SA &    18.90 &  0.1824  & 1.2206  \\\\\n",
       "\t BVSP     & 65710.00 &  0.1178  & 1.2060  \\\\\n",
       "\\end{tabular}\n"
      ],
      "text/markdown": [
       "\n",
       "acao | ultimo_preco | retorno | risco | \n",
       "|---|---|---|---|---|---|---|---|---|\n",
       "| GOLL4.SA |    10.70 |  1.0409  | 3.7465   | \n",
       "| USIM5.SA |     4.18 |  0.0292  | 3.2687   | \n",
       "| VALE5.SA |    24.94 |  0.1468  | 3.2507   | \n",
       "| PETR4.SA |    14.21 | -0.0376  | 2.3066   | \n",
       "| BBDC4.SA |    30.73 |  0.1969  | 2.2730   | \n",
       "| JBSS3.SA |    10.70 | -0.0657  | 2.2033   | \n",
       "| ITUB4.SA |    38.70 |  0.1976  | 1.5362   | \n",
       "| ABEV3.SA |    18.90 |  0.1824  | 1.2206   | \n",
       "| BVSP     | 65710.00 |  0.1178  | 1.2060   | \n",
       "\n",
       "\n"
      ],
      "text/plain": [
       "  acao     ultimo_preco retorno risco \n",
       "1 GOLL4.SA    10.70      1.0409 3.7465\n",
       "2 USIM5.SA     4.18      0.0292 3.2687\n",
       "3 VALE5.SA    24.94      0.1468 3.2507\n",
       "4 PETR4.SA    14.21     -0.0376 2.3066\n",
       "5 BBDC4.SA    30.73      0.1969 2.2730\n",
       "6 JBSS3.SA    10.70     -0.0657 2.2033\n",
       "7 ITUB4.SA    38.70      0.1976 1.5362\n",
       "8 ABEV3.SA    18.90      0.1824 1.2206\n",
       "9 BVSP     65710.00      0.1178 1.2060"
      ]
     },
     "metadata": {},
     "output_type": "display_data"
    }
   ],
   "source": [
    "dados_precos %>% \n",
    "    group_by(acao) %>% \n",
    "    summarize( ultimo_preco = last(preco),\n",
    "               retorno = round( mean(variacao)*100, 4),\n",
    "               risco = round( sd(variacao)*100, 4) ) %>% \n",
    "    arrange( desc(risco) )\n",
    "    "
   ]
  },
  {
   "cell_type": "markdown",
   "metadata": {},
   "source": [
    "## Criar grupos dos dados sumarizados"
   ]
  },
  {
   "cell_type": "code",
   "execution_count": 11,
   "metadata": {
    "collapsed": false
   },
   "outputs": [
    {
     "data": {
      "text/html": [
       "<table>\n",
       "<thead><tr><th scope=col>acao</th><th scope=col>ultimo_preco</th><th scope=col>retorno</th><th scope=col>risco</th><th scope=col>class_retorno</th><th scope=col>class_risco</th></tr></thead>\n",
       "<tbody>\n",
       "\t<tr><td>ABEV3.SA</td><td>   18.90</td><td> 0.1824 </td><td>1.2206  </td><td>ALTO    </td><td>BAIXO   </td></tr>\n",
       "\t<tr><td>BBDC4.SA</td><td>   30.73</td><td> 0.1969 </td><td>2.2730  </td><td>ALTO    </td><td>MODERADO</td></tr>\n",
       "\t<tr><td>BVSP    </td><td>65710.00</td><td> 0.1178 </td><td>1.2060  </td><td>BAIXO   </td><td>BAIXO   </td></tr>\n",
       "\t<tr><td>GOLL4.SA</td><td>   10.70</td><td> 1.0409 </td><td>3.7465  </td><td>ALTO    </td><td>ALTO    </td></tr>\n",
       "\t<tr><td>ITUB4.SA</td><td>   38.70</td><td> 0.1976 </td><td>1.5362  </td><td>ALTO    </td><td>BAIXO   </td></tr>\n",
       "\t<tr><td>JBSS3.SA</td><td>   10.70</td><td>-0.0657 </td><td>2.2033  </td><td>BAIXO   </td><td>MODERADO</td></tr>\n",
       "\t<tr><td>PETR4.SA</td><td>   14.21</td><td>-0.0376 </td><td>2.3066  </td><td>BAIXO   </td><td>MODERADO</td></tr>\n",
       "\t<tr><td>USIM5.SA</td><td>    4.18</td><td> 0.0292 </td><td>3.2687  </td><td>BAIXO   </td><td>ALTO    </td></tr>\n",
       "\t<tr><td>VALE5.SA</td><td>   24.94</td><td> 0.1468 </td><td>3.2507  </td><td>BAIXO   </td><td>ALTO    </td></tr>\n",
       "</tbody>\n",
       "</table>\n"
      ],
      "text/latex": [
       "\\begin{tabular}{r|llllll}\n",
       " acao & ultimo\\_preco & retorno & risco & class\\_retorno & class\\_risco\\\\\n",
       "\\hline\n",
       "\t ABEV3.SA &    18.90 &  0.1824  & 1.2206   & ALTO     & BAIXO   \\\\\n",
       "\t BBDC4.SA &    30.73 &  0.1969  & 2.2730   & ALTO     & MODERADO\\\\\n",
       "\t BVSP     & 65710.00 &  0.1178  & 1.2060   & BAIXO    & BAIXO   \\\\\n",
       "\t GOLL4.SA &    10.70 &  1.0409  & 3.7465   & ALTO     & ALTO    \\\\\n",
       "\t ITUB4.SA &    38.70 &  0.1976  & 1.5362   & ALTO     & BAIXO   \\\\\n",
       "\t JBSS3.SA &    10.70 & -0.0657  & 2.2033   & BAIXO    & MODERADO\\\\\n",
       "\t PETR4.SA &    14.21 & -0.0376  & 2.3066   & BAIXO    & MODERADO\\\\\n",
       "\t USIM5.SA &     4.18 &  0.0292  & 3.2687   & BAIXO    & ALTO    \\\\\n",
       "\t VALE5.SA &    24.94 &  0.1468  & 3.2507   & BAIXO    & ALTO    \\\\\n",
       "\\end{tabular}\n"
      ],
      "text/markdown": [
       "\n",
       "acao | ultimo_preco | retorno | risco | class_retorno | class_risco | \n",
       "|---|---|---|---|---|---|---|---|---|\n",
       "| ABEV3.SA |    18.90 |  0.1824  | 1.2206   | ALTO     | BAIXO    | \n",
       "| BBDC4.SA |    30.73 |  0.1969  | 2.2730   | ALTO     | MODERADO | \n",
       "| BVSP     | 65710.00 |  0.1178  | 1.2060   | BAIXO    | BAIXO    | \n",
       "| GOLL4.SA |    10.70 |  1.0409  | 3.7465   | ALTO     | ALTO     | \n",
       "| ITUB4.SA |    38.70 |  0.1976  | 1.5362   | ALTO     | BAIXO    | \n",
       "| JBSS3.SA |    10.70 | -0.0657  | 2.2033   | BAIXO    | MODERADO | \n",
       "| PETR4.SA |    14.21 | -0.0376  | 2.3066   | BAIXO    | MODERADO | \n",
       "| USIM5.SA |     4.18 |  0.0292  | 3.2687   | BAIXO    | ALTO     | \n",
       "| VALE5.SA |    24.94 |  0.1468  | 3.2507   | BAIXO    | ALTO     | \n",
       "\n",
       "\n"
      ],
      "text/plain": [
       "  acao     ultimo_preco retorno risco  class_retorno class_risco\n",
       "1 ABEV3.SA    18.90      0.1824 1.2206 ALTO          BAIXO      \n",
       "2 BBDC4.SA    30.73      0.1969 2.2730 ALTO          MODERADO   \n",
       "3 BVSP     65710.00      0.1178 1.2060 BAIXO         BAIXO      \n",
       "4 GOLL4.SA    10.70      1.0409 3.7465 ALTO          ALTO       \n",
       "5 ITUB4.SA    38.70      0.1976 1.5362 ALTO          BAIXO      \n",
       "6 JBSS3.SA    10.70     -0.0657 2.2033 BAIXO         MODERADO   \n",
       "7 PETR4.SA    14.21     -0.0376 2.3066 BAIXO         MODERADO   \n",
       "8 USIM5.SA     4.18      0.0292 3.2687 BAIXO         ALTO       \n",
       "9 VALE5.SA    24.94      0.1468 3.2507 BAIXO         ALTO       "
      ]
     },
     "metadata": {},
     "output_type": "display_data"
    }
   ],
   "source": [
    "dados_sumarizados <- dados_precos %>% \n",
    "                        group_by(acao) %>% \n",
    "                        summarize( ultimo_preco = last(preco),\n",
    "                                   retorno = round( mean(variacao)*100, 4),\n",
    "                                   risco = round( sd(variacao)*100, 4) ) %>% \n",
    "                        mutate(class_retorno = ifelse( retorno > 0.15, \"ALTO\", \"BAIXO\") ,\n",
    "                               class_risco = ifelse( risco < 2, \"BAIXO\",\n",
    "                                                ifelse( risco > 3, \"ALTO\", \"MODERADO\") ) )\n",
    "dados_sumarizados"
   ]
  },
  {
   "cell_type": "markdown",
   "metadata": {},
   "source": [
    "## Tabelas cruzada classificação retorno e classificação de risco"
   ]
  },
  {
   "cell_type": "code",
   "execution_count": 20,
   "metadata": {
    "collapsed": false
   },
   "outputs": [
    {
     "name": "stdout",
     "output_type": "stream",
     "text": [
      "[1] \"Frequencias Classificação Retorno\"\n"
     ]
    },
    {
     "data": {
      "text/plain": [
       ".\n",
       " ALTO BAIXO \n",
       "    4     5 "
      ]
     },
     "metadata": {},
     "output_type": "display_data"
    },
    {
     "name": "stdout",
     "output_type": "stream",
     "text": [
      "[1] \"Frequencias Classificação Risco\"\n"
     ]
    },
    {
     "data": {
      "text/plain": [
       ".\n",
       "    ALTO    BAIXO MODERADO \n",
       "       3        3        3 "
      ]
     },
     "metadata": {},
     "output_type": "display_data"
    },
    {
     "name": "stdout",
     "output_type": "stream",
     "text": [
      "[1] \"Tabela Cruzada Classificação Retorno e Risco\"\n"
     ]
    },
    {
     "data": {
      "text/plain": [
       "             class_risco\n",
       "class_retorno ALTO BAIXO MODERADO\n",
       "        ALTO     1     2        1\n",
       "        BAIXO    2     1        2"
      ]
     },
     "metadata": {},
     "output_type": "display_data"
    }
   ],
   "source": [
    "print( \"Frequencias Classificação Retorno\" )\n",
    "dados_sumarizados %>% \n",
    "    select(class_retorno) %>% \n",
    "    table()\n",
    "\n",
    "print( \"Frequencias Classificação Risco\" )\n",
    "dados_sumarizados %>% \n",
    "    select(class_risco) %>% \n",
    "    table()\n",
    "\n",
    "print( \"Tabela Cruzada Classificação Retorno e Risco\" )\n",
    "dados_sumarizados %>% \n",
    "    select(class_retorno, class_risco) %>% \n",
    "    table()\n"
   ]
  }
 ],
 "metadata": {
  "kernelspec": {
   "display_name": "R",
   "language": "R",
   "name": "ir"
  },
  "language_info": {
   "codemirror_mode": "r",
   "file_extension": ".r",
   "mimetype": "text/x-r-source",
   "name": "R",
   "pygments_lexer": "r",
   "version": "3.3.2"
  }
 },
 "nbformat": 4,
 "nbformat_minor": 2
}
