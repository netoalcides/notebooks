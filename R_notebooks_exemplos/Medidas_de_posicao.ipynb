{
 "cells": [
  {
   "cell_type": "markdown",
   "metadata": {},
   "source": [
    "# Medidas de posição\n",
    "\n",
    "\n",
    "* Média aritmética\n",
    "* Mediana\n",
    "* Moda\n",
    "* Quartil"
   ]
  },
  {
   "cell_type": "markdown",
   "metadata": {},
   "source": [
    "## Média\n",
    "\n",
    "A média é a soma dos elementos dividida pelo total de elementos: $\\bar{x} = \\frac{1}{n}\\sum^{n}_{i = 1}x_i$\n"
   ]
  },
  {
   "cell_type": "code",
   "execution_count": 1,
   "metadata": {
    "collapsed": false
   },
   "outputs": [
    {
     "name": "stdout",
     "output_type": "stream",
     "text": [
      "[1] \"A soma de idades é: 363\"\n",
      "[1] \"O número de elementos é: 11\"\n",
      "[1] \"A idade média é: 33\"\n"
     ]
    }
   ],
   "source": [
    "# Exemplo\n",
    "\n",
    "idades <- c(31, 15, 20, 25, 36, 55, 38, 55, 18, 43, 27)\n",
    "\n",
    "print( paste(\"A soma de idades é:\", sum(idades) ) )\n",
    "\n",
    "print( paste(\"O número de elementos é:\", length(idades) ) )\n",
    "\n",
    "print( paste(\"A idade média é:\", mean(idades) ) )"
   ]
  },
  {
   "cell_type": "markdown",
   "metadata": {},
   "source": [
    "## Mediana\n",
    "\n",
    "A mediana é o valor que separa a metade maior e a metade menor de um conjunto de elementos"
   ]
  },
  {
   "cell_type": "code",
   "execution_count": 2,
   "metadata": {
    "collapsed": false
   },
   "outputs": [
    {
     "name": "stdout",
     "output_type": "stream",
     "text": [
      "[1] \"Ordenam-se as idades:\"\n"
     ]
    },
    {
     "data": {
      "text/html": [
       "<ol class=list-inline>\n",
       "\t<li>15</li>\n",
       "\t<li>18</li>\n",
       "\t<li>20</li>\n",
       "\t<li>25</li>\n",
       "\t<li>27</li>\n",
       "\t<li>31</li>\n",
       "\t<li>36</li>\n",
       "\t<li>38</li>\n",
       "\t<li>43</li>\n",
       "\t<li>55</li>\n",
       "\t<li>55</li>\n",
       "</ol>\n"
      ],
      "text/latex": [
       "\\begin{enumerate*}\n",
       "\\item 15\n",
       "\\item 18\n",
       "\\item 20\n",
       "\\item 25\n",
       "\\item 27\n",
       "\\item 31\n",
       "\\item 36\n",
       "\\item 38\n",
       "\\item 43\n",
       "\\item 55\n",
       "\\item 55\n",
       "\\end{enumerate*}\n"
      ],
      "text/markdown": [
       "1. 15\n",
       "2. 18\n",
       "3. 20\n",
       "4. 25\n",
       "5. 27\n",
       "6. 31\n",
       "7. 36\n",
       "8. 38\n",
       "9. 43\n",
       "10. 55\n",
       "11. 55\n",
       "\n",
       "\n"
      ],
      "text/plain": [
       " [1] 15 18 20 25 27 31 36 38 43 55 55"
      ]
     },
     "metadata": {},
     "output_type": "display_data"
    },
    {
     "name": "stdout",
     "output_type": "stream",
     "text": [
      "[1] \"50% dos dados estão abaixo de 31 e os outros 50% estão acima\"\n",
      "[1] \"Portanto a mediana será: 31\"\n"
     ]
    }
   ],
   "source": [
    "# Exemplo\n",
    "\n",
    "print( \"Ordenam-se as idades:\" )\n",
    "sort(idades)\n",
    "\n",
    "print( \"50% dos dados estão abaixo de 31 e os outros 50% estão acima\" )\n",
    "print( paste(\"Portanto a mediana será:\", median(idades) ) )"
   ]
  },
  {
   "cell_type": "markdown",
   "metadata": {},
   "source": [
    "## Moda\n",
    "\n",
    "A moda é a realização mais freqüente do conjunto de valores observados."
   ]
  },
  {
   "cell_type": "code",
   "execution_count": 3,
   "metadata": {
    "collapsed": false
   },
   "outputs": [
    {
     "name": "stdout",
     "output_type": "stream",
     "text": [
      "[1] \"Observam-se as frequencias\"\n"
     ]
    },
    {
     "data": {
      "text/plain": [
       "idades\n",
       "15 18 20 25 27 31 36 38 43 55 \n",
       " 1  1  1  1  1  1  1  1  1  2 "
      ]
     },
     "metadata": {},
     "output_type": "display_data"
    },
    {
     "name": "stdout",
     "output_type": "stream",
     "text": [
      "[1] \"A idade 55 é a moda\"\n"
     ]
    }
   ],
   "source": [
    "# Exemplo\n",
    "\n",
    "print( \"Observam-se as frequencias\" )\n",
    "table(idades)\n",
    "print( \"A idade 55 é a moda\" )"
   ]
  },
  {
   "cell_type": "markdown",
   "metadata": {},
   "source": [
    "## Quartil\n",
    "\n",
    "Os quartis são valores que dividem o conjunto de dados em quatro partes iguais: 1º quartil 25% dos dados, 2º quartil 50% e 3º quartil 75%."
   ]
  },
  {
   "cell_type": "code",
   "execution_count": 7,
   "metadata": {
    "collapsed": false
   },
   "outputs": [
    {
     "name": "stdout",
     "output_type": "stream",
     "text": [
      "[1] \"O primeiro quartil para idades é: 22.5\"\n",
      "[1] \"O segundo quartil para idades é: 31\"\n",
      "[1] \"O terceiro quartil para idades é: 40.5\"\n"
     ]
    }
   ],
   "source": [
    "# Exemplo\n",
    "\n",
    "print( paste(\"O primeiro quartil para idades é:\", quantile(idades, prob=0.25) ) )\n",
    "print( paste(\"O segundo quartil para idades é:\", quantile(idades, prob=0.50) ) )\n",
    "print( paste(\"O terceiro quartil para idades é:\", quantile(idades, prob=0.75) ) )"
   ]
  },
  {
   "cell_type": "markdown",
   "metadata": {},
   "source": [
    "## Sumário\n",
    "\n",
    "Todas estas funções podem ser sumarizadas numa única função do R."
   ]
  },
  {
   "cell_type": "code",
   "execution_count": 8,
   "metadata": {
    "collapsed": false
   },
   "outputs": [
    {
     "data": {
      "text/plain": [
       "   Min. 1st Qu.  Median    Mean 3rd Qu.    Max. \n",
       "   15.0    22.5    31.0    33.0    40.5    55.0 "
      ]
     },
     "metadata": {},
     "output_type": "display_data"
    }
   ],
   "source": [
    "summary( idades )"
   ]
  }
 ],
 "metadata": {
  "kernelspec": {
   "display_name": "R",
   "language": "R",
   "name": "ir"
  },
  "language_info": {
   "codemirror_mode": "r",
   "file_extension": ".r",
   "mimetype": "text/x-r-source",
   "name": "R",
   "pygments_lexer": "r",
   "version": "3.3.2"
  }
 },
 "nbformat": 4,
 "nbformat_minor": 2
}
